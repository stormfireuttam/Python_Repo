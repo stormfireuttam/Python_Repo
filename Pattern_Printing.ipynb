{
  "nbformat": 4,
  "nbformat_minor": 0,
  "metadata": {
    "colab": {
      "provenance": [],
      "include_colab_link": true
    },
    "kernelspec": {
      "name": "python3",
      "display_name": "Python 3"
    },
    "language_info": {
      "name": "python"
    }
  },
  "cells": [
    {
      "cell_type": "markdown",
      "metadata": {
        "id": "view-in-github",
        "colab_type": "text"
      },
      "source": [
        "<a href=\"https://colab.research.google.com/github/stormfireuttam/Python_Repo/blob/main/Pattern_Printing.ipynb\" target=\"_parent\"><img src=\"https://colab.research.google.com/assets/colab-badge.svg\" alt=\"Open In Colab\"/></a>"
      ]
    },
    {
      "cell_type": "code",
      "execution_count": null,
      "metadata": {
        "colab": {
          "base_uri": "https://localhost:8080/"
        },
        "id": "Nj_euqa0u3tM",
        "outputId": "2ba0e2dc-b9bb-4031-b3f4-3f028377c7d6"
      },
      "outputs": [
        {
          "output_type": "stream",
          "name": "stdout",
          "text": [
            "5\n",
            "* \n",
            "* * \n",
            "* * * \n",
            "* * * * \n",
            "* * * * * \n"
          ]
        }
      ],
      "source": [
        "n = int(input())\n",
        "for row in range(0,n):\n",
        "  for col in range(0,row + 1):\n",
        "    print(\"*\", end=\" \")\n",
        "  print()"
      ]
    },
    {
      "cell_type": "code",
      "source": [
        "n = int(input())\n",
        "for row in range(0,n):\n",
        "  for col in range(0,row + 1):\n",
        "    ch = chr(col + 65)\n",
        "    print(ch, end =\" \")\n",
        "  print()"
      ],
      "metadata": {
        "colab": {
          "base_uri": "https://localhost:8080/"
        },
        "id": "_9YZKDZivie7",
        "outputId": "d72f6240-d936-419b-8413-52fad8249a86"
      },
      "execution_count": null,
      "outputs": [
        {
          "output_type": "stream",
          "name": "stdout",
          "text": [
            "8\n",
            "A \n",
            "A B \n",
            "A B C \n",
            "A B C D \n",
            "A B C D E \n",
            "A B C D E F \n",
            "A B C D E F G \n",
            "A B C D E F G H \n"
          ]
        }
      ]
    },
    {
      "cell_type": "code",
      "source": [
        "n = int(input())\n",
        "ch_start = 0\n",
        "for row in range(0,n):\n",
        "  for col in range(0,row + 1):\n",
        "    ch = chr(ch_start + 65)\n",
        "    print(ch, end=\" \")\n",
        "    ch_start += 1\n",
        "  print()"
      ],
      "metadata": {
        "colab": {
          "base_uri": "https://localhost:8080/"
        },
        "id": "nwNndAkev90Q",
        "outputId": "3efecb8f-c11a-4dc4-9c68-26e8706ab6f5"
      },
      "execution_count": null,
      "outputs": [
        {
          "output_type": "stream",
          "name": "stdout",
          "text": [
            "6\n",
            "A \n",
            "B C \n",
            "D E F \n",
            "G H I J \n",
            "K L M N O \n",
            "P Q R S T U \n"
          ]
        }
      ]
    },
    {
      "cell_type": "code",
      "source": [
        "n = int(input())\n",
        "for row in range(1,n+1):\n",
        "  for col in range(1,row + 1):\n",
        "    print(col, end=\" \")\n",
        "  print()"
      ],
      "metadata": {
        "colab": {
          "base_uri": "https://localhost:8080/"
        },
        "id": "wQQEf26owQMC",
        "outputId": "620d0366-ad7e-46f2-ef87-5231558f3f83"
      },
      "execution_count": null,
      "outputs": [
        {
          "output_type": "stream",
          "name": "stdout",
          "text": [
            "5\n",
            "1 \n",
            "1 2 \n",
            "1 2 3 \n",
            "1 2 3 4 \n",
            "1 2 3 4 5 \n"
          ]
        }
      ]
    },
    {
      "cell_type": "code",
      "source": [
        "n = int(input())\n",
        "for row in range(0,n):\n",
        "  for col in range(0,n):\n",
        "    if row == 0 or row == n - 1:\n",
        "      print(\"*\", end=\" \")\n",
        "    elif col == 0 or col == n - 1:\n",
        "      print(\"*\", end=\" \")\n",
        "    else:\n",
        "      print(\" \", end=\" \")\n",
        "  print()"
      ],
      "metadata": {
        "colab": {
          "base_uri": "https://localhost:8080/"
        },
        "id": "4orrKYUYweBr",
        "outputId": "e3bc25e2-9dbb-40a5-a2ea-08b29ceeb5d9"
      },
      "execution_count": null,
      "outputs": [
        {
          "output_type": "stream",
          "name": "stdout",
          "text": [
            "6\n",
            "* * * * * * \n",
            "*         * \n",
            "*         * \n",
            "*         * \n",
            "*         * \n",
            "* * * * * * \n"
          ]
        }
      ]
    },
    {
      "cell_type": "code",
      "source": [
        "n = int(input())\n",
        "for row in range(0,n):\n",
        "  print('* ',end='')\n",
        "print()\n",
        "for row in range(0,n-2):\n",
        "  print('*',end= \" \")\n",
        "  for col in range(0,n-2):\n",
        "    print('  ',end= \"\")\n",
        "  print('*')\n",
        "for row in range(0,n):\n",
        "  print('* ',end='')"
      ],
      "metadata": {
        "colab": {
          "base_uri": "https://localhost:8080/"
        },
        "id": "6sIdLXY91Leq",
        "outputId": "09f7cbce-978a-4b24-85d6-876e1886ab96"
      },
      "execution_count": null,
      "outputs": [
        {
          "output_type": "stream",
          "name": "stdout",
          "text": [
            "6\n",
            "* * * * * * \n",
            "*         *\n",
            "*         *\n",
            "*         *\n",
            "*         *\n",
            "* * * * * * "
          ]
        }
      ]
    },
    {
      "cell_type": "code",
      "source": [
        "a = int(input())\n",
        "no_st = 1\n",
        "no_sp = a - 1\n",
        "for i in range(0,a):\n",
        "  for j in range(0, no_sp):\n",
        "    print(\"_\", end = \" \")\n",
        "  for j in range(0, no_st):\n",
        "    print(\"*\", end = \" \")\n",
        "  no_st += 2\n",
        "  no_sp -= 1\n",
        "  print()\n",
        "  \n"
      ],
      "metadata": {
        "colab": {
          "base_uri": "https://localhost:8080/"
        },
        "id": "vEQC7Lh8xRM-",
        "outputId": "8e184169-1729-4197-b8e5-e0615bab3794"
      },
      "execution_count": null,
      "outputs": [
        {
          "output_type": "stream",
          "name": "stdout",
          "text": [
            "6\n",
            "_ _ _ _ _ * \n",
            "_ _ _ _ * * * \n",
            "_ _ _ * * * * * \n",
            "_ _ * * * * * * * \n",
            "_ * * * * * * * * * \n",
            "* * * * * * * * * * * \n"
          ]
        }
      ]
    },
    {
      "cell_type": "code",
      "source": [
        "for x in range(0,10):\n",
        "  print(x)\n",
        "print(x)"
      ],
      "metadata": {
        "colab": {
          "base_uri": "https://localhost:8080/"
        },
        "id": "Bk1E3PKn0KYd",
        "outputId": "2706fc99-bcc1-49bc-d65e-0e91cbda6cc1"
      },
      "execution_count": null,
      "outputs": [
        {
          "output_type": "stream",
          "name": "stdout",
          "text": [
            "0\n",
            "1\n",
            "2\n",
            "3\n",
            "4\n",
            "5\n",
            "6\n",
            "7\n",
            "8\n",
            "9\n",
            "9\n"
          ]
        }
      ]
    },
    {
      "cell_type": "markdown",
      "source": [
        "Q) What is Namespace in Python. What are the types?"
      ],
      "metadata": {
        "id": "YIBymH170QKN"
      }
    },
    {
      "cell_type": "markdown",
      "source": [
        "A namespace in Python is a container that holds a set of identifiers (i.e., names of variables, functions, etc.). Each identifier in a namespace can only be bound to one object at a time. Namespaces are used to avoid naming collisions when different modules or code blocks use the same identifiers.\n",
        "\n",
        "There are several types of namespaces in Python:\n",
        "\n",
        "Local namespace: created when a function is called and contains local variables.\n",
        "\n",
        "Global namespace: created when a module is imported and contains global variables.\n",
        "\n",
        "Built-in namespace: contains built-in functions and exceptions.\n",
        "\n",
        "Class namespace: created when a class is defined and contains class variables and methods.\n",
        "\n",
        "Module namespace: created when a module is imported and contains global variables and functions defined in the module."
      ],
      "metadata": {
        "id": "oBYHofLChJ1-"
      }
    }
  ]
}