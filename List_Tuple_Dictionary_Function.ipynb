{
  "nbformat": 4,
  "nbformat_minor": 0,
  "metadata": {
    "colab": {
      "provenance": [],
      "authorship_tag": "ABX9TyMNXThT/uWxBNJOwnL2Aqa0",
      "include_colab_link": true
    },
    "kernelspec": {
      "name": "python3",
      "display_name": "Python 3"
    },
    "language_info": {
      "name": "python"
    }
  },
  "cells": [
    {
      "cell_type": "markdown",
      "metadata": {
        "id": "view-in-github",
        "colab_type": "text"
      },
      "source": [
        "<a href=\"https://colab.research.google.com/github/stormfireuttam/Python_Repo/blob/main/List_Tuple_Dictionary_Function.ipynb\" target=\"_parent\"><img src=\"https://colab.research.google.com/assets/colab-badge.svg\" alt=\"Open In Colab\"/></a>"
      ]
    },
    {
      "cell_type": "markdown",
      "source": [
        "## Q) FrozenSet VS Set\n",
        "A set and a frozen set are both types of collections in Python that are used to store unique elements, but there are some key differences between the two:\n",
        "\n",
        "Mutability: A set is mutable, which means that its elements can be added, removed, or modified after it is created. A frozen set, on the other hand, is immutable, which means that its elements cannot be modified after it is created.\n",
        "\n",
        "Hashability: Because a set is mutable, it is not hashable, which means that it cannot be used as a key in a dictionary or as an element in another set. A frozen set, because it is immutable, is hashable and can be used in these ways.\n",
        "\n",
        "Syntax: The syntax for creating a set is {} or set(), while the syntax for creating a frozen set is frozenset().\n",
        "\n",
        "Performance: Frozen sets are generally slower than sets for performing operations like adding and removing elements.\n",
        "\n",
        "In general, you should use a set when you need a collection of unique elements that you need to modify, and use a frozen set when you need a collection of unique elements that will not be modified, but will be used as a key or an element in another collection.\n",
        "\n",
        "\n",
        "## Q) Variable Storage Location. Along with difference in Heap And Stack.\n",
        "In Python, variables are stored in memory, which is divided into two sections: the stack and the heap. The stack is used for storing function call frames and other program data, while the heap is used for allocating memory to objects.\n",
        "\n",
        "When a variable is created, Python assigns it a memory location in one of these sections, depending on the scope and lifetime of the variable.\n",
        "\n",
        "Local Variables: Local variables are those defined inside a function or a block of code. They are stored in the stack, and their memory is automatically freed when the function or block of code exits.\n",
        "\n",
        "Global Variables: Global variables are defined outside of any function or block of code. They are stored in the heap, and their memory is not automatically freed until the program exits.\n",
        "\n",
        "Built-in Variables: Built-in variables are predefined variables that are available in Python by default. They are stored in a special memory area that is separate from the stack and the heap.\n",
        "\n",
        "In addition to the above storage locations, Python also uses name binding to associate a variable name with its corresponding memory location. **The variable names are stored in the stack, while the values of the variables are stored in the heap.** When a variable is accessed, Python looks up its name in the stack to find the corresponding memory location in the heap, where the value of the variable is stored.\n",
        "\n",
        "\n",
        "## Q) Diff b/w List and Tuple\n",
        "A tuple is an immutable (cannot be modified) ordered collection of items, while a list is a mutable (can be modified) ordered collection of items. Tuple uses () and list uses [].\n",
        "\n",
        "List\n",
        "- Iteration is time consuming\n",
        "- Consume more memory\n",
        "- List is better for performing operations such as insertion & deletion.  \n",
        " \n",
        "Tuple  \n",
        "- Iteration is Faster\n",
        "- Consume less memory\n",
        "- Tuple data type is appropriate for accessing the elements."
      ],
      "metadata": {
        "id": "1_DBaIwvjRnM"
      }
    },
    {
      "cell_type": "markdown",
      "source": [
        "## Q) Find out usecase of zip and enumerate function\n",
        "\n",
        "### Zip\n",
        "In Python, the zip() function is used to combine two or more iterable objects (such as lists, tuples, or strings) into a single iterable object in the form of a tuple. Each tuple contains the elements from the corresponding position in the input iterables. The zip() function stops when the shortest input iterable is exhausted.\n",
        "\n",
        "For example:\n",
        "\n",
        "```\n",
        "list1 = [1, 2, 3]\n",
        "list2 = ['a', 'b', 'c']\n",
        "zipped = zip(list1, list2)\n",
        "\n",
        "for i, j in zipped:\n",
        "    print(i, j)\n",
        "\n",
        "```\n",
        "This will output:\n",
        "```\n",
        "1 a\n",
        "2 b\n",
        "3 c\n",
        "```\n",
        "It's also possible to unzip the zipped object using zip(*zipped_obj)\n",
        "\n",
        "### Enumerate\n",
        "\n",
        "In Python, the enumerate() function is used to add a counter to an iterable object (such as a list, tuple, or string) and return it as an enumerate object. The index value starts from 0 by default, but it can be set to start from any number using the optional start parameter.\n",
        "\n",
        "Example 1:\n",
        "```\n",
        "fruits = ['apple', 'banana', 'mango']\n",
        "for index, value in enumerate(fruits):\n",
        "    print(index, value)\n",
        "```\n",
        "Output:\n",
        "```\n",
        "0 apple\n",
        "1 banana\n",
        "2 mango\n",
        "\n",
        "```\n",
        "\n",
        "Example 2:\n",
        "\n",
        "You can also use enumerate with start parameter like this:\n",
        "```\n",
        "for index, value in enumerate(fruits, start=1):\n",
        "    print(index, value)\n",
        "```\n",
        "Output:\n",
        "```\n",
        "1 apple\n",
        "2 banana\n",
        "3 mango\n",
        "```"
      ],
      "metadata": {
        "id": "T2_b5Kp4mC7A"
      }
    },
    {
      "cell_type": "code",
      "execution_count": null,
      "metadata": {
        "colab": {
          "base_uri": "https://localhost:8080/"
        },
        "id": "sIP4gKyoWzpD",
        "outputId": "63a2fae6-edc5-4237-f131-2eb9f6eba811"
      },
      "outputs": [
        {
          "output_type": "execute_result",
          "data": {
            "text/plain": [
              "['a', 'b', 1001, 30, 'hey', 'hi']"
            ]
          },
          "metadata": {},
          "execution_count": 1
        }
      ],
      "source": [
        "myList = ['a','b',1001,30,'hey']\n",
        "myList.append('hi')\n",
        "myList\n"
      ]
    },
    {
      "cell_type": "code",
      "source": [
        "myList.append([90,8888])\n",
        "myList"
      ],
      "metadata": {
        "colab": {
          "base_uri": "https://localhost:8080/"
        },
        "id": "y_P5-ukVXYPD",
        "outputId": "7a4e1fd1-c17b-4083-85fd-866fa6f691e1"
      },
      "execution_count": null,
      "outputs": [
        {
          "output_type": "execute_result",
          "data": {
            "text/plain": [
              "['a', 'b', 1001, 30, 'hey', 'hi', [90, 8888]]"
            ]
          },
          "metadata": {},
          "execution_count": 2
        },
        {
          "output_type": "execute_result",
          "data": {
            "text/plain": [
              "['a', 'b', 1001, 30, 'hey', 'hi', [90, 8888], [90, 8888]]"
            ]
          },
          "metadata": {},
          "execution_count": 3
        }
      ]
    },
    {
      "cell_type": "markdown",
      "source": [
        "## LIST"
      ],
      "metadata": {
        "id": "fjNMiF510HLy"
      }
    },
    {
      "cell_type": "code",
      "source": [
        "# extend list by appending elements from the iterable\n",
        "# datatype which can be loopable is iterable, it has next() method \n",
        "myList.extend(\"goa\")\n",
        "myList"
      ],
      "metadata": {
        "colab": {
          "base_uri": "https://localhost:8080/"
        },
        "id": "Uv9EgMpOXnFA",
        "outputId": "0df4db38-a5c4-444f-8b1a-13e1551fd3ec"
      },
      "execution_count": null,
      "outputs": [
        {
          "output_type": "execute_result",
          "data": {
            "text/plain": [
              "['a',\n",
              " 'b',\n",
              " 1001,\n",
              " 30,\n",
              " 'hey',\n",
              " 'hi',\n",
              " [90, 8888],\n",
              " [90, 8888],\n",
              " 'g',\n",
              " 'o',\n",
              " 'a',\n",
              " 'g',\n",
              " 'o',\n",
              " 'a']"
            ]
          },
          "metadata": {},
          "execution_count": 5
        }
      ]
    },
    {
      "cell_type": "code",
      "source": [
        "myList.extend([10,20,30])\n",
        "myList"
      ],
      "metadata": {
        "colab": {
          "base_uri": "https://localhost:8080/"
        },
        "id": "OJbZAwSrXz_s",
        "outputId": "3157f616-3c3d-4be5-f510-92700db9ea30"
      },
      "execution_count": null,
      "outputs": [
        {
          "output_type": "execute_result",
          "data": {
            "text/plain": [
              "['a',\n",
              " 'b',\n",
              " 1001,\n",
              " 30,\n",
              " 'hey',\n",
              " 'hi',\n",
              " [90, 8888],\n",
              " [90, 8888],\n",
              " 'g',\n",
              " 'o',\n",
              " 'a',\n",
              " 'g',\n",
              " 'o',\n",
              " 'a',\n",
              " 10,\n",
              " 20,\n",
              " 30,\n",
              " 10,\n",
              " 20,\n",
              " 30]"
            ]
          },
          "metadata": {},
          "execution_count": 7
        }
      ]
    },
    {
      "cell_type": "code",
      "source": [
        "del myList[-1]\n",
        "myList"
      ],
      "metadata": {
        "colab": {
          "base_uri": "https://localhost:8080/"
        },
        "id": "MvGFK87bYXyI",
        "outputId": "01c00e74-a689-4f69-f1d5-ef97fa55ccc1"
      },
      "execution_count": null,
      "outputs": [
        {
          "output_type": "execute_result",
          "data": {
            "text/plain": [
              "['a',\n",
              " 'b',\n",
              " 1001,\n",
              " 30,\n",
              " 'hey',\n",
              " 'hi',\n",
              " [90, 8888],\n",
              " [90, 8888],\n",
              " 'g',\n",
              " 'o',\n",
              " 'a',\n",
              " 'g',\n",
              " 'o',\n",
              " 'a',\n",
              " 10,\n",
              " 20,\n",
              " 30,\n",
              " 10]"
            ]
          },
          "metadata": {},
          "execution_count": 9
        }
      ]
    },
    {
      "cell_type": "code",
      "source": [
        "myList.pop()"
      ],
      "metadata": {
        "colab": {
          "base_uri": "https://localhost:8080/"
        },
        "id": "m7NbbcLUZDLi",
        "outputId": "2d07460e-b9ba-4e33-977c-3a6bc18de1fa"
      },
      "execution_count": null,
      "outputs": [
        {
          "output_type": "execute_result",
          "data": {
            "text/plain": [
              "10"
            ]
          },
          "metadata": {},
          "execution_count": 10
        }
      ]
    },
    {
      "cell_type": "code",
      "source": [
        "myList"
      ],
      "metadata": {
        "colab": {
          "base_uri": "https://localhost:8080/"
        },
        "id": "mcKIsZ63ZHJc",
        "outputId": "186ff937-7007-4b08-a939-38e594d754c7"
      },
      "execution_count": null,
      "outputs": [
        {
          "output_type": "execute_result",
          "data": {
            "text/plain": [
              "['a',\n",
              " 'b',\n",
              " 1001,\n",
              " 30,\n",
              " 'hey',\n",
              " 'hi',\n",
              " [90, 8888],\n",
              " [90, 8888],\n",
              " 'g',\n",
              " 'o',\n",
              " 'a',\n",
              " 'g',\n",
              " 'o',\n",
              " 'a',\n",
              " 10,\n",
              " 20,\n",
              " 30]"
            ]
          },
          "metadata": {},
          "execution_count": 11
        }
      ]
    },
    {
      "cell_type": "code",
      "source": [
        "myList.remove(1001)\n",
        "myList"
      ],
      "metadata": {
        "colab": {
          "base_uri": "https://localhost:8080/"
        },
        "id": "fzg3LST8ZOed",
        "outputId": "8d1506eb-6fc3-41d8-d476-6db59b6aa486"
      },
      "execution_count": null,
      "outputs": [
        {
          "output_type": "execute_result",
          "data": {
            "text/plain": [
              "['a',\n",
              " 'b',\n",
              " 30,\n",
              " 'hey',\n",
              " 'hi',\n",
              " [90, 8888],\n",
              " [90, 8888],\n",
              " 'g',\n",
              " 'o',\n",
              " 'a',\n",
              " 'g',\n",
              " 'o',\n",
              " 'a',\n",
              " 10,\n",
              " 20,\n",
              " 30]"
            ]
          },
          "metadata": {},
          "execution_count": 13
        }
      ]
    },
    {
      "cell_type": "code",
      "source": [
        "myList * 2\n"
      ],
      "metadata": {
        "colab": {
          "base_uri": "https://localhost:8080/"
        },
        "id": "3fvR24wSZ6mR",
        "outputId": "68b91010-ad56-476c-a6aa-4d4927b75289"
      },
      "execution_count": null,
      "outputs": [
        {
          "output_type": "execute_result",
          "data": {
            "text/plain": [
              "['a',\n",
              " 'b',\n",
              " 30,\n",
              " 'hey',\n",
              " 'hi',\n",
              " [90, 8888],\n",
              " [90, 8888],\n",
              " 'g',\n",
              " 'o',\n",
              " 'a',\n",
              " 'g',\n",
              " 'o',\n",
              " 'a',\n",
              " 10,\n",
              " 20,\n",
              " 30,\n",
              " 'a',\n",
              " 'b',\n",
              " 30,\n",
              " 'hey',\n",
              " 'hi',\n",
              " [90, 8888],\n",
              " [90, 8888],\n",
              " 'g',\n",
              " 'o',\n",
              " 'a',\n",
              " 'g',\n",
              " 'o',\n",
              " 'a',\n",
              " 10,\n",
              " 20,\n",
              " 30]"
            ]
          },
          "metadata": {},
          "execution_count": 14
        }
      ]
    },
    {
      "cell_type": "markdown",
      "source": [
        "## Tuple"
      ],
      "metadata": {
        "id": "Tu_BxEqZ0L-k"
      }
    },
    {
      "cell_type": "code",
      "source": [
        "myTuple=10,20,\"1\"\n",
        "print(type(myTuple))"
      ],
      "metadata": {
        "colab": {
          "base_uri": "https://localhost:8080/"
        },
        "id": "x-ZpqUqtaMzm",
        "outputId": "36268a5d-5c6a-4d44-a76d-9726037357b8"
      },
      "execution_count": null,
      "outputs": [
        {
          "output_type": "stream",
          "name": "stdout",
          "text": [
            "<class 'tuple'>\n"
          ]
        }
      ]
    },
    {
      "cell_type": "code",
      "source": [
        "myTuple*2"
      ],
      "metadata": {
        "colab": {
          "base_uri": "https://localhost:8080/"
        },
        "id": "9LFgtm2Kb8Vr",
        "outputId": "62af6c04-82ad-42b0-ab1a-dc28f150064c"
      },
      "execution_count": null,
      "outputs": [
        {
          "output_type": "execute_result",
          "data": {
            "text/plain": [
              "(10, 20, '1', 10, 20, '1')"
            ]
          },
          "metadata": {},
          "execution_count": 17
        }
      ]
    },
    {
      "cell_type": "code",
      "source": [
        "tup1 = (30)\n",
        "tup1 + myTuple"
      ],
      "metadata": {
        "colab": {
          "base_uri": "https://localhost:8080/",
          "height": 182
        },
        "id": "pa4wQb4BcdA8",
        "outputId": "338e9352-1d8e-493f-f7dc-65a957ec98ad"
      },
      "execution_count": null,
      "outputs": [
        {
          "output_type": "error",
          "ename": "TypeError",
          "evalue": "ignored",
          "traceback": [
            "\u001b[0;31m---------------------------------------------------------------------------\u001b[0m",
            "\u001b[0;31mTypeError\u001b[0m                                 Traceback (most recent call last)",
            "\u001b[0;32m<ipython-input-18-45894ecc12b2>\u001b[0m in \u001b[0;36m<module>\u001b[0;34m\u001b[0m\n\u001b[1;32m      1\u001b[0m \u001b[0mtup1\u001b[0m \u001b[0;34m=\u001b[0m \u001b[0;34m(\u001b[0m\u001b[0;36m30\u001b[0m\u001b[0;34m)\u001b[0m\u001b[0;34m\u001b[0m\u001b[0;34m\u001b[0m\u001b[0m\n\u001b[0;32m----> 2\u001b[0;31m \u001b[0mtup1\u001b[0m \u001b[0;34m+\u001b[0m \u001b[0mmyTuple\u001b[0m\u001b[0;34m\u001b[0m\u001b[0;34m\u001b[0m\u001b[0m\n\u001b[0m",
            "\u001b[0;31mTypeError\u001b[0m: unsupported operand type(s) for +: 'int' and 'tuple'"
          ]
        }
      ]
    },
    {
      "cell_type": "markdown",
      "source": [
        "## Dictionary\n",
        "\n",
        "Data type where a particular value is associated with a particular key\n",
        "\n",
        "**key : value**\n",
        "\n",
        "* dictionary are unordered collection of elements in form of key:value pair\n",
        "* Mutable\n",
        "* key will be unique\n",
        "* value/data associated can be duplicate/unique\n",
        "* data can be of any data type mutable/immutable\n",
        "* keys will be immutable only\n"
      ],
      "metadata": {
        "id": "iGZx8YHVdtbs"
      }
    },
    {
      "cell_type": "code",
      "source": [
        "myDict = {\"name\":\"Tushar\", \"age\":16}\n",
        "myDict"
      ],
      "metadata": {
        "colab": {
          "base_uri": "https://localhost:8080/"
        },
        "id": "PHdPZGDFcwQq",
        "outputId": "42e4eb56-6350-44d1-b650-7ebd743d93dd"
      },
      "execution_count": null,
      "outputs": [
        {
          "output_type": "execute_result",
          "data": {
            "text/plain": [
              "{'name': 'Tushar', 'age': 16}"
            ]
          },
          "metadata": {},
          "execution_count": 19
        }
      ]
    },
    {
      "cell_type": "code",
      "source": [
        "myDict1 = {\"name\":\"Tushar\", [\"age\"]:16}         # Error as key is mutable which should not be the case"
      ],
      "metadata": {
        "colab": {
          "base_uri": "https://localhost:8080/",
          "height": 165
        },
        "id": "5ZrDXZblesPh",
        "outputId": "72ffd1a8-00fd-4504-f646-82a31379d484"
      },
      "execution_count": null,
      "outputs": [
        {
          "output_type": "error",
          "ename": "TypeError",
          "evalue": "ignored",
          "traceback": [
            "\u001b[0;31m---------------------------------------------------------------------------\u001b[0m",
            "\u001b[0;31mTypeError\u001b[0m                                 Traceback (most recent call last)",
            "\u001b[0;32m<ipython-input-21-81625a2a895a>\u001b[0m in \u001b[0;36m<module>\u001b[0;34m\u001b[0m\n\u001b[0;32m----> 1\u001b[0;31m \u001b[0mmyDict1\u001b[0m \u001b[0;34m=\u001b[0m \u001b[0;34m{\u001b[0m\u001b[0;34m\"name\"\u001b[0m\u001b[0;34m:\u001b[0m\u001b[0;34m\"Tushar\"\u001b[0m\u001b[0;34m,\u001b[0m \u001b[0;34m[\u001b[0m\u001b[0;34m\"age\"\u001b[0m\u001b[0;34m]\u001b[0m\u001b[0;34m:\u001b[0m\u001b[0;36m16\u001b[0m\u001b[0;34m}\u001b[0m         \u001b[0;31m# Error as key is mutable which should not be the case\u001b[0m\u001b[0;34m\u001b[0m\u001b[0;34m\u001b[0m\u001b[0m\n\u001b[0m",
            "\u001b[0;31mTypeError\u001b[0m: unhashable type: 'list'"
          ]
        }
      ]
    },
    {
      "cell_type": "code",
      "source": [
        "myDict[0]       # cant access based on index as the data inserted is unordered"
      ],
      "metadata": {
        "colab": {
          "base_uri": "https://localhost:8080/",
          "height": 165
        },
        "id": "F9rb8pore5XY",
        "outputId": "be8bae9c-4875-4439-b5c2-a337a7390f01"
      },
      "execution_count": null,
      "outputs": [
        {
          "output_type": "error",
          "ename": "KeyError",
          "evalue": "ignored",
          "traceback": [
            "\u001b[0;31m---------------------------------------------------------------------------\u001b[0m",
            "\u001b[0;31mKeyError\u001b[0m                                  Traceback (most recent call last)",
            "\u001b[0;32m<ipython-input-23-a5b59b53f0df>\u001b[0m in \u001b[0;36m<module>\u001b[0;34m\u001b[0m\n\u001b[0;32m----> 1\u001b[0;31m \u001b[0mmyDict\u001b[0m\u001b[0;34m[\u001b[0m\u001b[0;36m0\u001b[0m\u001b[0;34m]\u001b[0m       \u001b[0;31m# cant access based on index as the data inserted is unordered\u001b[0m\u001b[0;34m\u001b[0m\u001b[0;34m\u001b[0m\u001b[0m\n\u001b[0m",
            "\u001b[0;31mKeyError\u001b[0m: 0"
          ]
        }
      ]
    },
    {
      "cell_type": "code",
      "source": [
        "myDict[\"name\"]"
      ],
      "metadata": {
        "colab": {
          "base_uri": "https://localhost:8080/",
          "height": 36
        },
        "id": "OalucZpAfCA4",
        "outputId": "30d0c05a-3650-432c-d8bb-f1855827928c"
      },
      "execution_count": null,
      "outputs": [
        {
          "output_type": "execute_result",
          "data": {
            "text/plain": [
              "'Tushar'"
            ],
            "application/vnd.google.colaboratory.intrinsic+json": {
              "type": "string"
            }
          },
          "metadata": {},
          "execution_count": 25
        }
      ]
    },
    {
      "cell_type": "code",
      "source": [
        "myDict[\"Salary\"] = 1000000\n",
        "myDict"
      ],
      "metadata": {
        "colab": {
          "base_uri": "https://localhost:8080/"
        },
        "id": "0nc1s29Yfn3p",
        "outputId": "cb6f19bf-91ae-4514-b581-33f3208eb333"
      },
      "execution_count": null,
      "outputs": [
        {
          "output_type": "execute_result",
          "data": {
            "text/plain": [
              "{'name': 'Tushar', 'age': 16, 'Salary': 1000000}"
            ]
          },
          "metadata": {},
          "execution_count": 27
        }
      ]
    },
    {
      "cell_type": "code",
      "source": [
        "'''\n",
        "Using list of tuple values create a dictionary\n",
        "'''\n",
        "myTuple = ('Name', 'Sd')\n",
        "myTuple2 = ('Age', 20)\n",
        "dict1 = dict([myTuple, myTuple2])\n",
        "dict1"
      ],
      "metadata": {
        "colab": {
          "base_uri": "https://localhost:8080/"
        },
        "id": "2lVHQf2kfwbU",
        "outputId": "14ccdd99-46a5-46e3-88d4-5a0cce6a2a35"
      },
      "execution_count": null,
      "outputs": [
        {
          "output_type": "execute_result",
          "data": {
            "text/plain": [
              "{'Name': 'Sd', 'Age': 20}"
            ]
          },
          "metadata": {},
          "execution_count": 30
        }
      ]
    },
    {
      "cell_type": "code",
      "source": [
        "dict1 = {'Name':'Ad', 'Marks': [50,75,80]}\n",
        "dict2 = {'Name':'Kp', 'Marks': [32,77,88]}\n",
        "dict3 = {'Name':'Nk', 'Marks': [90,75,70]}\n",
        "mylist = [dict1, dict2, dict3]\n",
        "mylist\n",
        "\n",
        "print('Dictionary Values')\n",
        "for x in mylist:\n",
        "  print(x['Marks'])\n",
        "print('\\nDictionary Keys')\n",
        "for x in mylist:\n",
        "  print(x)"
      ],
      "metadata": {
        "colab": {
          "base_uri": "https://localhost:8080/"
        },
        "id": "VGKuwGxnhFVk",
        "outputId": "38cf5c1a-8f20-4a81-84f7-1e05235f03d0"
      },
      "execution_count": null,
      "outputs": [
        {
          "output_type": "stream",
          "name": "stdout",
          "text": [
            "Dictionary Values\n",
            "[50, 75, 80]\n",
            "[32, 77, 88]\n",
            "[90, 75, 70]\n",
            "\n",
            "Dictionary Keys\n",
            "{'Name': 'Ad', 'Marks': [50, 75, 80]}\n",
            "{'Name': 'Kp', 'Marks': [32, 77, 88]}\n",
            "{'Name': 'Nk', 'Marks': [90, 75, 70]}\n"
          ]
        }
      ]
    },
    {
      "cell_type": "markdown",
      "source": [
        "## Q) Conversion from one number system to another "
      ],
      "metadata": {
        "id": "vLd_geuZiulJ"
      }
    },
    {
      "cell_type": "markdown",
      "source": [
        "## Set"
      ],
      "metadata": {
        "id": "Y6tztU28jcTx"
      }
    },
    {
      "cell_type": "code",
      "source": [
        "mySet={}\n",
        "print(type(mySet))"
      ],
      "metadata": {
        "colab": {
          "base_uri": "https://localhost:8080/"
        },
        "id": "ZA18_sr7i9_p",
        "outputId": "5e99736a-75a2-4c02-f908-2991b23c6718"
      },
      "execution_count": null,
      "outputs": [
        {
          "output_type": "stream",
          "name": "stdout",
          "text": [
            "<class 'dict'>\n"
          ]
        }
      ]
    },
    {
      "cell_type": "code",
      "source": [
        "mySet=set({})\n",
        "print(type(mySet))"
      ],
      "metadata": {
        "colab": {
          "base_uri": "https://localhost:8080/"
        },
        "id": "sJW_dtW5jkWn",
        "outputId": "99b9b4b4-eae0-4751-b809-3b0ad5deb08b"
      },
      "execution_count": null,
      "outputs": [
        {
          "output_type": "stream",
          "name": "stdout",
          "text": [
            "<class 'set'>\n"
          ]
        }
      ]
    },
    {
      "cell_type": "code",
      "source": [
        "mySet= set({10,20,30,40})\n",
        "mySet"
      ],
      "metadata": {
        "colab": {
          "base_uri": "https://localhost:8080/"
        },
        "id": "zWDaaEFdj2Oz",
        "outputId": "287b5935-5f77-40b5-b8ba-052aa6623f4a"
      },
      "execution_count": null,
      "outputs": [
        {
          "output_type": "execute_result",
          "data": {
            "text/plain": [
              "{10, 20, 30, 40}"
            ]
          },
          "metadata": {},
          "execution_count": 49
        }
      ]
    },
    {
      "cell_type": "code",
      "source": [
        "mySet.add(\"Hey\")\n",
        "mySet"
      ],
      "metadata": {
        "colab": {
          "base_uri": "https://localhost:8080/"
        },
        "id": "zWDvNPcij7o9",
        "outputId": "ff5708a4-57e0-4796-cc2a-c2e49c446592"
      },
      "execution_count": null,
      "outputs": [
        {
          "output_type": "execute_result",
          "data": {
            "text/plain": [
              "{10, 20, 30, 40, 'Hey'}"
            ]
          },
          "metadata": {},
          "execution_count": 50
        }
      ]
    },
    {
      "cell_type": "markdown",
      "source": [
        "Remove will give you an error\n",
        "\n",
        "Discard will not give you an error"
      ],
      "metadata": {
        "id": "CG56tHxHkMkf"
      }
    },
    {
      "cell_type": "code",
      "source": [
        "# we perform union in case of update\n",
        "mySet.update((10,20,1092101))\n",
        "mySet"
      ],
      "metadata": {
        "colab": {
          "base_uri": "https://localhost:8080/"
        },
        "id": "ih9Hvr6EkLSu",
        "outputId": "21d2d48e-c9a5-4f26-edb7-433696357718"
      },
      "execution_count": null,
      "outputs": [
        {
          "output_type": "execute_result",
          "data": {
            "text/plain": [
              "{10, 1092101, 20, 30, 40, 'Hey'}"
            ]
          },
          "metadata": {},
          "execution_count": 51
        }
      ]
    },
    {
      "cell_type": "markdown",
      "source": [
        "### Q) Create a set containing multiple elements. Check if set element is integer or float. Square of element and append to a new list. If String data we need to append \"@gmail.com\" after the string and append it in list again.\n",
        "\n",
        "### Q) Create two sets. Use difference, isdisjoint, issubset, symmetric_difference and is_superset methods.\n",
        "\n",
        "### Q) Create a prog to take input from user as string. And return all the unique words as string datatype. "
      ],
      "metadata": {
        "id": "kQII26ADlmCr"
      }
    },
    {
      "cell_type": "code",
      "source": [
        "mySet1 = set({'Tushar', 25, 54.25, 'Ajay', 'Uttam', 98.2, 750, 25})\n",
        "newList = []\n",
        "for iter in mySet1:\n",
        "  if isinstance(iter, int) or isinstance(iter, float):\n",
        "    newList.append(iter ** 2)\n",
        "  else:\n",
        "    newList.append(str(iter) + \"@gmail.com\")\n",
        "print(newList)"
      ],
      "metadata": {
        "colab": {
          "base_uri": "https://localhost:8080/"
        },
        "id": "lqkv3bi3mI4h",
        "outputId": "674ee269-6f50-4139-bf1f-6548b8f02c25"
      },
      "execution_count": null,
      "outputs": [
        {
          "output_type": "stream",
          "name": "stdout",
          "text": [
            "['Ajay@gmail.com', 9643.24, 2943.0625, 625, 'Tushar@gmail.com', 562500, 'Uttam@gmail.com']\n"
          ]
        }
      ]
    },
    {
      "cell_type": "code",
      "source": [
        "setA = set({20, 40, 30, 60, 80})\n",
        "setB = set({10, 30, 40, 60, 90})\n",
        "# Return a set that contains the items that only exist in set x, and not in set y\n",
        "print(setA.difference(setB))\n",
        "print(setA.isdisjoint(setB))\n",
        "# Return False if not all items in set x are present in set y:\n",
        "print(setA.issubset(setB))\n",
        "# The symmetric_difference() method returns a set that contains all items from both set, but not the items that are present in both sets.\n",
        "print(setA.symmetric_difference(setB))  \n",
        "# Return True if all items set y are present in set x   \n",
        "print(setA.issuperset(setB))                            "
      ],
      "metadata": {
        "colab": {
          "base_uri": "https://localhost:8080/"
        },
        "id": "NgH3hBjirzYt",
        "outputId": "ba5e5e42-ccaf-4784-b916-f016b3b61f2e"
      },
      "execution_count": null,
      "outputs": [
        {
          "output_type": "stream",
          "name": "stdout",
          "text": [
            "{80, 20}\n",
            "False\n",
            "False\n",
            "{80, 20, 90, 10}\n",
            "False\n"
          ]
        }
      ]
    },
    {
      "cell_type": "code",
      "source": [
        "inputStr = \"My user, we we welcome you, hey\"\n",
        "setWords = set(inputStr.split(\" \"))\n",
        "print(setWords)\n",
        "\n",
        "# Remove the delimiters without using regexp or replace function"
      ],
      "metadata": {
        "colab": {
          "base_uri": "https://localhost:8080/"
        },
        "id": "id56adnPuDlB",
        "outputId": "178eb3d5-3da6-430d-8ffa-7f274fa9dfd4"
      },
      "execution_count": null,
      "outputs": [
        {
          "output_type": "stream",
          "name": "stdout",
          "text": [
            "{'welcome', 'hey', 'we', 'user,', 'you,', 'My'}\n"
          ]
        }
      ]
    },
    {
      "cell_type": "markdown",
      "source": [
        "## FUNCTION\n",
        "\n",
        "* Block of Code that we write down once and can use it multiple times\n",
        "* Named Block\n",
        "* Code Reusability\n",
        "* Modularity -> helps to divide code into smaller sections\n",
        "* Helpful for Debugging\n",
        "\n",
        "\n",
        "\n",
        "```\n",
        "  # function declaration\n",
        "  def function(parameter):\n",
        "    statement\n",
        "\n",
        "  # call the function\n",
        "  function(argument)\n",
        "```\n",
        "\n",
        "\n"
      ],
      "metadata": {
        "id": "4Z8QYb6hvYai"
      }
    },
    {
      "cell_type": "code",
      "source": [
        "def greeting():\n",
        "  print(\"Hello\")\n",
        "\n",
        "greeting()"
      ],
      "metadata": {
        "colab": {
          "base_uri": "https://localhost:8080/"
        },
        "id": "JjdWaxp0vU3T",
        "outputId": "0d8f2951-bd67-4f97-a4e1-0f930c5b3ff5"
      },
      "execution_count": null,
      "outputs": [
        {
          "output_type": "stream",
          "name": "stdout",
          "text": [
            "Hello\n"
          ]
        }
      ]
    },
    {
      "cell_type": "code",
      "source": [
        "def greeting(username):\n",
        "  print(\"Hello \" + username)\n",
        "\n",
        "greeting(\"Tushar\")"
      ],
      "metadata": {
        "colab": {
          "base_uri": "https://localhost:8080/"
        },
        "id": "jaC8GFalxJxB",
        "outputId": "b3a07201-8074-41ea-edbc-e46a842fe418"
      },
      "execution_count": null,
      "outputs": [
        {
          "output_type": "stream",
          "name": "stdout",
          "text": [
            "Hello Tushar\n"
          ]
        }
      ]
    },
    {
      "cell_type": "code",
      "source": [
        "# In python we work on call by refrence\n",
        "def swapNumber(n1, n2):\n",
        "  n1,n2 = n2,n1\n",
        "x = 10\n",
        "y = 20\n",
        "print(x, \" \",y)\n",
        "swapNumber(x,y)\n",
        "print(x, \" \", y)"
      ],
      "metadata": {
        "colab": {
          "base_uri": "https://localhost:8080/"
        },
        "id": "6KBUaTVfxti3",
        "outputId": "81cc7dfc-4259-4aca-d20b-b087556031f7"
      },
      "execution_count": null,
      "outputs": [
        {
          "output_type": "stream",
          "name": "stdout",
          "text": [
            "10   20\n",
            "10   20\n"
          ]
        }
      ]
    },
    {
      "cell_type": "code",
      "source": [
        "myList=[20,30,40]\n",
        "\n",
        "def updateList(listdata):\n",
        "  listdata[0] = 1000\n",
        "  print(listdata)\n",
        "\n",
        "myList = [10,20,30]\n",
        "print(myList)\n",
        "print(\"My list id is\", id(myList)) \n",
        "updateList(myList)"
      ],
      "metadata": {
        "colab": {
          "base_uri": "https://localhost:8080/"
        },
        "id": "EX8tGhNt0DGc",
        "outputId": "168c8b0d-fdbb-4777-a2ec-12b976ae701a"
      },
      "execution_count": null,
      "outputs": [
        {
          "output_type": "stream",
          "name": "stdout",
          "text": [
            "[10, 20, 30]\n",
            "My list id is 139642211847104\n",
            "[1000, 20, 30]\n"
          ]
        }
      ]
    },
    {
      "cell_type": "code",
      "source": [
        "# take every element of list and multiply every element by 2\n",
        "def updateList(listData):\n",
        "  for i in range(len(listData)):\n",
        "      listData[i] = listData[i] * 2\n",
        "  \n",
        "myList = [10,20,30,40]\n",
        "print(myList)\n",
        "updateList(myList)\n",
        "print(myList)"
      ],
      "metadata": {
        "colab": {
          "base_uri": "https://localhost:8080/"
        },
        "id": "iPA8Rr0l0nsK",
        "outputId": "a3e6fb2c-d4b4-4b2d-c448-fe1707160ff7"
      },
      "execution_count": null,
      "outputs": [
        {
          "output_type": "stream",
          "name": "stdout",
          "text": [
            "[10, 20, 30, 40]\n",
            "[20, 40, 60, 80]\n"
          ]
        }
      ]
    },
    {
      "cell_type": "markdown",
      "source": [
        "## Type Of Argument Passing"
      ],
      "metadata": {
        "id": "RO5x5SyV1mD8"
      }
    },
    {
      "cell_type": "code",
      "source": [
        "# Required\n",
        "\n",
        "def studentDetails(sid, nam, email):\n",
        "  print(f\"Student id is {sid}, name {nam} & email : {email}\")\n",
        "\n",
        "print(studentDetails(10))"
      ],
      "metadata": {
        "colab": {
          "base_uri": "https://localhost:8080/",
          "height": 200
        },
        "id": "nJcwmXXu1ped",
        "outputId": "54739482-3ed5-4bea-8919-719a71de6bc4"
      },
      "execution_count": null,
      "outputs": [
        {
          "output_type": "error",
          "ename": "TypeError",
          "evalue": "ignored",
          "traceback": [
            "\u001b[0;31m---------------------------------------------------------------------------\u001b[0m",
            "\u001b[0;31mTypeError\u001b[0m                                 Traceback (most recent call last)",
            "\u001b[0;32m<ipython-input-83-c67bafd314d6>\u001b[0m in \u001b[0;36m<module>\u001b[0;34m\u001b[0m\n\u001b[1;32m      4\u001b[0m   \u001b[0mprint\u001b[0m\u001b[0;34m(\u001b[0m\u001b[0;34mf\"Student id is {sid}, name {nam} & email : {email}\"\u001b[0m\u001b[0;34m)\u001b[0m\u001b[0;34m\u001b[0m\u001b[0;34m\u001b[0m\u001b[0m\n\u001b[1;32m      5\u001b[0m \u001b[0;34m\u001b[0m\u001b[0m\n\u001b[0;32m----> 6\u001b[0;31m \u001b[0mprint\u001b[0m\u001b[0;34m(\u001b[0m\u001b[0mstudentDetails\u001b[0m\u001b[0;34m(\u001b[0m\u001b[0;36m10\u001b[0m\u001b[0;34m)\u001b[0m\u001b[0;34m)\u001b[0m\u001b[0;34m\u001b[0m\u001b[0;34m\u001b[0m\u001b[0m\n\u001b[0m",
            "\u001b[0;31mTypeError\u001b[0m: studentDetails() missing 2 required positional arguments: 'nam' and 'email'"
          ]
        }
      ]
    },
    {
      "cell_type": "code",
      "source": [
        "studentDetails(10, \"Tushar\", \"Tushar@gmail.com\")"
      ],
      "metadata": {
        "colab": {
          "base_uri": "https://localhost:8080/"
        },
        "id": "0t7QUTDa2EBB",
        "outputId": "b3f3ef22-65b3-46cc-c6ea-cdef17e6eb47"
      },
      "execution_count": null,
      "outputs": [
        {
          "output_type": "stream",
          "name": "stdout",
          "text": [
            "Student id is 10, name Tushar & email : Tushar@gmail.com\n"
          ]
        }
      ]
    },
    {
      "cell_type": "code",
      "source": [
        "# Positional Arguments\n",
        "studentDetails(\"Tushar\",10,\"tushar@gmail.com\")"
      ],
      "metadata": {
        "colab": {
          "base_uri": "https://localhost:8080/"
        },
        "id": "gvAxWZow2MQq",
        "outputId": "21c18e95-6070-4339-ea52-5f2def10a118"
      },
      "execution_count": null,
      "outputs": [
        {
          "output_type": "stream",
          "name": "stdout",
          "text": [
            "Student id is Tushar, name 10 & email : tushar@gmail.com\n"
          ]
        }
      ]
    },
    {
      "cell_type": "code",
      "source": [
        "#Keyword Arguments\n",
        "studentDetails(nam=\"Tushar\",sid=10,email=\"tushar@gmail.com\")"
      ],
      "metadata": {
        "colab": {
          "base_uri": "https://localhost:8080/"
        },
        "id": "U2iJCNY32q0E",
        "outputId": "70c316a0-2007-410f-cd28-11ff4c6a2b6f"
      },
      "execution_count": null,
      "outputs": [
        {
          "output_type": "stream",
          "name": "stdout",
          "text": [
            "Student id is 10, name Tushar & email : tushar@gmail.com\n"
          ]
        }
      ]
    },
    {
      "cell_type": "code",
      "source": [
        "# Combination of Keyword & Positional Arguments\n",
        "studentDetails(10,email=\"tushar@gmail.com\",nam=\"Tushar\")"
      ],
      "metadata": {
        "colab": {
          "base_uri": "https://localhost:8080/"
        },
        "id": "Pp9Ej79z2u4H",
        "outputId": "3ba91c0d-c394-4297-b114-affb739811c5"
      },
      "execution_count": null,
      "outputs": [
        {
          "output_type": "stream",
          "name": "stdout",
          "text": [
            "Student id is 10, name Tushar & email : tushar@gmail.com\n"
          ]
        }
      ]
    },
    {
      "cell_type": "code",
      "source": [
        "# Keyword Argument will be on the right side\n",
        "studentDetails(email=\"tushar@gmail.com\",10,nam=\"Tushar\")"
      ],
      "metadata": {
        "colab": {
          "base_uri": "https://localhost:8080/",
          "height": 130
        },
        "id": "xcqrWjZl3Dor",
        "outputId": "87409b22-bcb6-4d9d-f07d-4799d440e180"
      },
      "execution_count": null,
      "outputs": [
        {
          "output_type": "error",
          "ename": "SyntaxError",
          "evalue": "ignored",
          "traceback": [
            "\u001b[0;36m  File \u001b[0;32m\"<ipython-input-92-e7e815011dd9>\"\u001b[0;36m, line \u001b[0;32m2\u001b[0m\n\u001b[0;31m    studentDetails(email=\"tushar@gmail.com\",10,nam=\"Tushar\")\u001b[0m\n\u001b[0m                                            ^\u001b[0m\n\u001b[0;31mSyntaxError\u001b[0m\u001b[0;31m:\u001b[0m positional argument follows keyword argument\n"
          ]
        }
      ]
    },
    {
      "cell_type": "code",
      "source": [
        "# Function with default Value\n",
        "def studentDetails2(sid, name, email=\"gmail.com\"):\n",
        "  print(f\"Student id is {sid}, name {name} & email : {email}\")\n",
        "\n",
        "studentDetails2(10,name=\"Tushar\")"
      ],
      "metadata": {
        "colab": {
          "base_uri": "https://localhost:8080/"
        },
        "id": "j4AzpPm43IXk",
        "outputId": "cd56821c-20b1-409a-a609-f16fde735202"
      },
      "execution_count": null,
      "outputs": [
        {
          "output_type": "stream",
          "name": "stdout",
          "text": [
            "Student id is 10, name Tushar & email : gmail.com\n"
          ]
        }
      ]
    },
    {
      "cell_type": "code",
      "source": [
        "studentDetails2(10,email=\"Tushar@gmail.con\",name=\"Tushar\")"
      ],
      "metadata": {
        "colab": {
          "base_uri": "https://localhost:8080/"
        },
        "id": "__UjQOpm3dK3",
        "outputId": "64c7d768-24c7-424c-af42-6cce7bb1509d"
      },
      "execution_count": null,
      "outputs": [
        {
          "output_type": "stream",
          "name": "stdout",
          "text": [
            "Student id is 10, name Tushar & email : Tushar@gmail.con\n"
          ]
        }
      ]
    },
    {
      "cell_type": "code",
      "source": [
        "def studentDetail(*detail):\n",
        "  print(detail,type(detail))"
      ],
      "metadata": {
        "id": "2a6VeRSU4ZNS"
      },
      "execution_count": null,
      "outputs": []
    },
    {
      "cell_type": "code",
      "source": [
        "studentDetail(10)"
      ],
      "metadata": {
        "colab": {
          "base_uri": "https://localhost:8080/"
        },
        "id": "LgYMWbtT4hnn",
        "outputId": "26c9bed7-22c9-41ee-a1b2-4fb2ba1a0358"
      },
      "execution_count": null,
      "outputs": [
        {
          "output_type": "stream",
          "name": "stdout",
          "text": [
            "(10,) <class 'tuple'>\n"
          ]
        }
      ]
    },
    {
      "cell_type": "code",
      "source": [
        "def studentDetail_key(**detail):\n",
        "  print(detail, type(detail))"
      ],
      "metadata": {
        "id": "dCQZFLjK5Ecc"
      },
      "execution_count": null,
      "outputs": []
    },
    {
      "cell_type": "code",
      "source": [
        "studentDetail_key(name=\"Tushar\",age=10)"
      ],
      "metadata": {
        "colab": {
          "base_uri": "https://localhost:8080/"
        },
        "id": "7kir-vr15LFc",
        "outputId": "2ef422b5-e0d1-4334-8eaa-e9bfe158a02a"
      },
      "execution_count": null,
      "outputs": [
        {
          "output_type": "stream",
          "name": "stdout",
          "text": [
            "{'name': 'Tushar', 'age': 10} <class 'dict'>\n"
          ]
        }
      ]
    },
    {
      "cell_type": "code",
      "source": [
        "# Q) Diff BW  *args, **kwargs "
      ],
      "metadata": {
        "id": "l4Go2kD65Ym4"
      },
      "execution_count": null,
      "outputs": []
    },
    {
      "cell_type": "code",
      "source": [
        "# function which takes two input from user and find lcm\n",
        "\n",
        "def lcm():\n",
        "  num1 = int(input())\n",
        "  num2 = int(input())\n",
        "  res = 1\n",
        "  if num1 >= num2:\n",
        "    res = num1\n",
        "  else:\n",
        "    res = num2\n",
        "  while(res % num1 != 0 or res % num2 != 0):\n",
        "    res += 1\n",
        "  print(res)\n",
        "\n",
        "lcm()"
      ],
      "metadata": {
        "colab": {
          "base_uri": "https://localhost:8080/"
        },
        "id": "MtVm0zwo5kvG",
        "outputId": "50f4e393-0238-4718-f5d0-14bb1105719f"
      },
      "execution_count": null,
      "outputs": [
        {
          "output_type": "stream",
          "name": "stdout",
          "text": [
            "10\n",
            "15\n",
            "30\n"
          ]
        }
      ]
    }
  ]
}