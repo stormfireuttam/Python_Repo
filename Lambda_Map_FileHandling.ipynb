{
  "nbformat": 4,
  "nbformat_minor": 0,
  "metadata": {
    "colab": {
      "provenance": [],
      "authorship_tag": "ABX9TyMUIzuABOekKyA+RUsTdFXw",
      "include_colab_link": true
    },
    "kernelspec": {
      "name": "python3",
      "display_name": "Python 3"
    },
    "language_info": {
      "name": "python"
    }
  },
  "cells": [
    {
      "cell_type": "markdown",
      "metadata": {
        "id": "view-in-github",
        "colab_type": "text"
      },
      "source": [
        "<a href=\"https://colab.research.google.com/github/stormfireuttam/Python_Repo/blob/main/Lambda_Map_FileHandling.ipynb\" target=\"_parent\"><img src=\"https://colab.research.google.com/assets/colab-badge.svg\" alt=\"Open In Colab\"/></a>"
      ]
    },
    {
      "cell_type": "markdown",
      "source": [
        "## What is First Class Function?\n",
        "\n",
        "In programming, a \"first-class function\" is a term used to describe a programming language construct in which functions are treated as first-class citizens. This means that functions can be treated just like any other data type, such as integers or strings. Specifically, first-class functions have the following properties:\n",
        "\n",
        "* They can be assigned to a variable or stored in a data structure.\n",
        "* They can be passed as an argument to a function.\n",
        "* They can be returned as a result from a function.\n",
        "* They can be stored in data structures such as lists and dictionaries.\n",
        "\n",
        "For example, in Python, a function can be assigned to a variable:\n",
        "```\n",
        "def my_function():\n",
        "    print(\"Hello, world!\")\n",
        "\n",
        "greet = my_function\n",
        "greet()\n",
        "```\n",
        "It can also be passed as an argument to another function:\n",
        "```\n",
        "def call_function(func):\n",
        "    func()\n",
        "\n",
        "call_function(my_function)\n",
        "```\n",
        "and returned as a result from a function:\n",
        "```\n",
        "def return_function():\n",
        "    return my_function\n",
        "\n",
        "greet = return_function()\n",
        "greet()\n",
        "```\n",
        "Languages like Python, Lisp, Smalltalk, Lua and Ruby have first-class functions as a built-in feature, while other languages like C and C++ can emulate first-class functions through function pointers.\n",
        "\n",
        "In contrast, in a language with \"first-class functions\", functions are not considered to be first-class citizens and cannot be treated in the same way as data.\n",
        "\n",
        "## What is High Order Function?\n",
        "\n",
        "A \"higher-order function\" is a function that takes one or more functions as arguments, and/or returns a function as its result. It operates on functions by either applying them as arguments, or by returning them. These types of functions are called \"higher-order\" because they work on other functions, in contrast to \"first-order\" functions which only operate on values.\n",
        "\n",
        "For example, a common higher-order function in Python is map(), which takes a function and an iterable as arguments, and applies the function to each element of the iterable. Here's an example of using map() to square a list of numbers:\n",
        "\n",
        "```\n",
        "numbers = [1, 2, 3, 4]\n",
        "squared_numbers = map(lambda x: x**2, numbers)\n",
        "```\n",
        "Another example of a higher-order function is filter(), which takes a function and an iterable as arguments, and returns an iterable containing only the elements for which the function returned True. Here's an example of using filter() to get only the even numbers from a list:\n",
        "\n",
        "```\n",
        "numbers = [1, 2, 3, 4, 5, 6, 7, 8, 9, 10]\n",
        "even_numbers = filter(lambda x: x % 2 == 0, numbers)\n",
        "```\n",
        "Higher-order functions can also return other functions. An example of a higher-order function that returns a function is a closure, which is a function that \"closes over\" or captures a variable from its containing scope:\n",
        "\n",
        "```\n",
        "def make_adder(n):\n",
        "    def adder(x):\n",
        "        return x + n\n",
        "    return adder\n",
        "\n",
        "add_five = make_adder(5)\n",
        "print(add_five(3)) # 8\n",
        "```\n",
        "Higher-order functions are a powerful feature of functional programming and can make code more expressive, composable and reusable.\n"
      ],
      "metadata": {
        "id": "fWA2FfWhi2oX"
      }
    },
    {
      "cell_type": "code",
      "execution_count": null,
      "metadata": {
        "id": "-h5-Ty1FhIcM"
      },
      "outputs": [],
      "source": [
        "def hello1():\n",
        "  print(\"hey\")\n",
        "  return \"Tushar\"\n",
        "  print(\"Printing afterwards\")"
      ]
    },
    {
      "cell_type": "code",
      "source": [
        "type(hello1())"
      ],
      "metadata": {
        "colab": {
          "base_uri": "https://localhost:8080/"
        },
        "id": "wUYKwek0hnhL",
        "outputId": "f18b718b-8bcc-4d0f-aed4-8a721c01b964"
      },
      "execution_count": null,
      "outputs": [
        {
          "output_type": "stream",
          "name": "stdout",
          "text": [
            "hey\n"
          ]
        },
        {
          "output_type": "execute_result",
          "data": {
            "text/plain": [
              "str"
            ]
          },
          "metadata": {},
          "execution_count": 2
        }
      ]
    },
    {
      "cell_type": "code",
      "source": [
        "def shashank():\n",
        "  print(\"he is placed!\")\n",
        "shashank()\n",
        "x=shashank      # assigning function to a variable (first class function) \n",
        "x()"
      ],
      "metadata": {
        "colab": {
          "base_uri": "https://localhost:8080/"
        },
        "id": "YBfEbyb1htLa",
        "outputId": "413d8f3a-d07e-48e3-f778-97d6aa5996e4"
      },
      "execution_count": null,
      "outputs": [
        {
          "output_type": "stream",
          "name": "stdout",
          "text": [
            "he is placed!\n",
            "he is placed!\n"
          ]
        }
      ]
    },
    {
      "cell_type": "code",
      "source": [
        "def joker():\n",
        "  print(\"hey user joker\")\n",
        "\n",
        "def placement(status, abc):\n",
        "  print(\"calling placement function\")\n",
        "  abc()\n",
        "\n",
        "placement(\"user placed\",joker)"
      ],
      "metadata": {
        "colab": {
          "base_uri": "https://localhost:8080/"
        },
        "id": "WkBmbFX-jA4p",
        "outputId": "123b2b42-5bf0-4dd5-8842-5f50fdbe2412"
      },
      "execution_count": null,
      "outputs": [
        {
          "output_type": "stream",
          "name": "stdout",
          "text": [
            "calling placement function\n",
            "hey user joker\n"
          ]
        }
      ]
    },
    {
      "cell_type": "code",
      "source": [
        "def joker():\n",
        "  print(\"hey user joker\")\n",
        "\n",
        "def placement(status, abc):\n",
        "  print(\"calling placement function\")\n",
        "  abc\n",
        "\n",
        "placement(\"user placed\",joker())"
      ],
      "metadata": {
        "colab": {
          "base_uri": "https://localhost:8080/"
        },
        "id": "9NPjFuBkk29T",
        "outputId": "4551302e-bfa3-452e-e7d6-1c40b699d838"
      },
      "execution_count": null,
      "outputs": [
        {
          "output_type": "stream",
          "name": "stdout",
          "text": [
            "hey user joker\n",
            "calling placement function\n"
          ]
        }
      ]
    },
    {
      "cell_type": "code",
      "source": [
        "# lambda function/anonymous function\n",
        "# lambda parameter : statement(single statement only)\n",
        "\n",
        "lambda num: num**2"
      ],
      "metadata": {
        "colab": {
          "base_uri": "https://localhost:8080/"
        },
        "id": "z8KQrQyjmjWy",
        "outputId": "0a220dd2-b482-422c-eeb8-10058c697231"
      },
      "execution_count": null,
      "outputs": [
        {
          "output_type": "execute_result",
          "data": {
            "text/plain": [
              "<function __main__.<lambda>(num)>"
            ]
          },
          "metadata": {},
          "execution_count": 17
        }
      ]
    },
    {
      "cell_type": "code",
      "source": [
        "x = lambda num: num**2\n",
        "x(10)"
      ],
      "metadata": {
        "colab": {
          "base_uri": "https://localhost:8080/"
        },
        "id": "j7bBqTYxoGY3",
        "outputId": "0fe59f8e-a6db-4861-97f5-4e066329e8d1"
      },
      "execution_count": null,
      "outputs": [
        {
          "output_type": "execute_result",
          "data": {
            "text/plain": [
              "100"
            ]
          },
          "metadata": {},
          "execution_count": 15
        }
      ]
    },
    {
      "cell_type": "code",
      "source": [
        "(lambda a,b : a+b)(10,20) "
      ],
      "metadata": {
        "colab": {
          "base_uri": "https://localhost:8080/"
        },
        "id": "KQ0w_MWrociL",
        "outputId": "50cbcf33-e5d4-430c-8a14-310ddf6fcc99"
      },
      "execution_count": null,
      "outputs": [
        {
          "output_type": "execute_result",
          "data": {
            "text/plain": [
              "30"
            ]
          },
          "metadata": {},
          "execution_count": 18
        }
      ]
    },
    {
      "cell_type": "markdown",
      "source": [
        "## MAP\n",
        "\n",
        "* Iterates over the element one at a time\n",
        "* Applies the functionality\n",
        "* Return the Output\n"
      ],
      "metadata": {
        "id": "uBZHIi0QpObU"
      }
    },
    {
      "cell_type": "code",
      "source": [
        "# Without Map\n",
        "def squareNo(num1):\n",
        "  return num1**2\n",
        "\n",
        "squareNo(10)"
      ],
      "metadata": {
        "colab": {
          "base_uri": "https://localhost:8080/"
        },
        "id": "LZ1BmDwMoqEe",
        "outputId": "79fc849c-1eeb-4731-995c-317eed10e72a"
      },
      "execution_count": null,
      "outputs": [
        {
          "output_type": "execute_result",
          "data": {
            "text/plain": [
              "100"
            ]
          },
          "metadata": {},
          "execution_count": 19
        }
      ]
    },
    {
      "cell_type": "code",
      "source": [
        "myList = [2,3,4]\n",
        "list(map(squareNo,myList))"
      ],
      "metadata": {
        "colab": {
          "base_uri": "https://localhost:8080/"
        },
        "id": "nPQnoyUOpwjZ",
        "outputId": "c66dfe90-5fa7-4cd5-defe-b88dcbfc21ad"
      },
      "execution_count": null,
      "outputs": [
        {
          "output_type": "execute_result",
          "data": {
            "text/plain": [
              "[4, 9, 16]"
            ]
          },
          "metadata": {},
          "execution_count": 22
        }
      ]
    },
    {
      "cell_type": "code",
      "source": [
        "tuple(map(lambda x:x**2, myList))"
      ],
      "metadata": {
        "colab": {
          "base_uri": "https://localhost:8080/"
        },
        "id": "Ui1JRtKMqORC",
        "outputId": "4b570284-79a1-4f09-f072-26bb86b4ab20"
      },
      "execution_count": null,
      "outputs": [
        {
          "output_type": "execute_result",
          "data": {
            "text/plain": [
              "(4, 9, 16)"
            ]
          },
          "metadata": {},
          "execution_count": 23
        }
      ]
    },
    {
      "cell_type": "markdown",
      "source": [
        "### Dict consisting of several function to calculate the avg of every student marks. Function <- take list as input and return avg\n"
      ],
      "metadata": {
        "id": "87Tw507yqveX"
      }
    },
    {
      "cell_type": "code",
      "source": [
        "dict1 = {'Name':'Ad', 'Marks': [50,75,80]}\n",
        "dict2 = {'Name':'Kp', 'Marks': [32,77,88]}\n",
        "dict3 = {'Name':'Nk', 'Marks': [90,75,70]}\n",
        "dataSet = [{'Name':'Ad', 'Marks': [50,75,80]}, {'Name':'Ad', 'Marks': [50,75,80]}, {'Name':'Ad', 'Marks': [50,75,80]}]\n",
        "dataSet"
      ],
      "metadata": {
        "colab": {
          "base_uri": "https://localhost:8080/"
        },
        "id": "RIEYKGr_qV5_",
        "outputId": "e19dd6b4-c66a-4cfa-df4b-1585a41d0f8f"
      },
      "execution_count": null,
      "outputs": [
        {
          "output_type": "execute_result",
          "data": {
            "text/plain": [
              "[{'Name': 'Ad', 'Marks': [50, 75, 80]},\n",
              " {'Name': 'Kp', 'Marks': [32, 77, 88]},\n",
              " {'Name': 'Nk', 'Marks': [90, 75, 70]}]"
            ]
          },
          "metadata": {},
          "execution_count": 28
        }
      ]
    },
    {
      "cell_type": "code",
      "source": [
        "mylist = [90,75,70]\n",
        "lambdaFn = (lambda mylist : sum(mylist)/len(mylist))\n",
        "print(lambdaFn(mylist))\n"
      ],
      "metadata": {
        "colab": {
          "base_uri": "https://localhost:8080/"
        },
        "id": "sBPHCi6SrUnW",
        "outputId": "ad6e7c7b-6583-4e6d-e21c-5bf663a67c29"
      },
      "execution_count": null,
      "outputs": [
        {
          "output_type": "stream",
          "name": "stdout",
          "text": [
            "78.33333333333333\n"
          ]
        }
      ]
    },
    {
      "cell_type": "code",
      "source": [
        "mydict = {x(dataSet[0]['Marks']) : dataSet[0]['Marks'], x(dataSet[1]['Marks']) : dataSet[1]['Marks'], x(dataSet[2]['Marks']) : dataSet[2]['Marks']}\n",
        "print(mydict)"
      ],
      "metadata": {
        "colab": {
          "base_uri": "https://localhost:8080/"
        },
        "id": "l5daFUYxseP0",
        "outputId": "84b8450b-c57d-4a27-dd16-f63f63a2b850"
      },
      "execution_count": null,
      "outputs": [
        {
          "output_type": "stream",
          "name": "stdout",
          "text": [
            "{68.33333333333333: [50, 75, 80], 65.66666666666667: [32, 77, 88], 78.33333333333333: [90, 75, 70]}\n"
          ]
        }
      ]
    },
    {
      "cell_type": "code",
      "source": [
        "# dict[key] = value\n",
        "# key => avg of marks\n",
        "# value => list of marks\n",
        "mydict = {}\n",
        "for iter in dataSet:\n",
        "  mydict[round(lambdaFn(iter['Marks']),2)] = iter['Marks']\n",
        "print(mydict)"
      ],
      "metadata": {
        "colab": {
          "base_uri": "https://localhost:8080/"
        },
        "id": "LtnRH_GVta_Q",
        "outputId": "ba541475-46bc-4a02-cf46-a8cba76149d4"
      },
      "execution_count": null,
      "outputs": [
        {
          "output_type": "stream",
          "name": "stdout",
          "text": [
            "{68.33: [50, 75, 80], 65.67: [32, 77, 88], 78.33: [90, 75, 70]}\n"
          ]
        }
      ]
    },
    {
      "cell_type": "code",
      "source": [
        "# Enchance the dict of function to calc maximum and total marks of the candidate\n",
        "# and in case if a user gives choice sum -> then sum, max-> then maximum\n",
        "\n",
        "lambdaFnSum = (lambda mylist : sum(mylist))\n",
        "lambdaFnMax = (lambda mylist : max(mylist))\n",
        "mydict = {}\n",
        "for iter in dataSet:\n",
        "    print(\"Options Available\")\n",
        "    print(\"Enter 1 for Sum\")\n",
        "    print(\"Enter 2 for Max\")\n",
        "    opt = int(input())\n",
        "    while opt != 1 and opt != 2:\n",
        "      print(\"Invalid Option\")\n",
        "      print(\"Renter the correct option\")\n",
        "    if opt == 1:\n",
        "      mydict[lambdaFnSum(iter['Marks'])] = iter['Marks']\n",
        "    else:\n",
        "      mydict[lambdaFnMax(iter['Marks'])] = iter['Marks']\n",
        "    print(mydict)"
      ],
      "metadata": {
        "colab": {
          "base_uri": "https://localhost:8080/"
        },
        "id": "C2L9ahzluMlS",
        "outputId": "d9062fce-b95f-4d63-bf24-52a306d9b277"
      },
      "execution_count": null,
      "outputs": [
        {
          "output_type": "stream",
          "name": "stdout",
          "text": [
            "Options Available\n",
            "Enter 1 for Sum\n",
            "Enter 2 for Max\n",
            "1\n",
            "{205: [50, 75, 80]}\n",
            "Options Available\n",
            "Enter 1 for Sum\n",
            "Enter 2 for Max\n",
            "2\n",
            "{205: [50, 75, 80], 88: [32, 77, 88]}\n",
            "Options Available\n",
            "Enter 1 for Sum\n",
            "Enter 2 for Max\n",
            "1\n",
            "{205: [50, 75, 80], 88: [32, 77, 88], 235: [90, 75, 70]}\n"
          ]
        }
      ]
    },
    {
      "cell_type": "markdown",
      "source": [
        "## FILE HANDLING"
      ],
      "metadata": {
        "id": "Hv1_ka-082su"
      }
    },
    {
      "cell_type": "markdown",
      "source": [
        "### Q1) File Handling Modes in Python\n",
        "In Python, file handling can be performed using built-in open() function. The open() function takes two arguments, the first one is the name of the file, and the second one is the mode in which the file should be opened. The mode in which a file should be opened depends on the type of operation that needs to be performed on the file.\n",
        "\n",
        "The following are the different modes in which a file can be opened in Python:\n",
        "\n",
        "1. **'r' (Read Only)**: This mode opens the file in read-only mode. It is the default mode in which a file is opened. If the file does not exist, an error is raised.\n",
        "\n",
        "2. **'w' (Write Only):** This mode opens the file in write-only mode. If the file does not exist, a new file is created. If the file already exists, all its contents are truncated (deleted).\n",
        "\n",
        "3. **'a' (Append Only):** This mode opens the file in append-only mode. If the file does not exist, a new file is created. If the file already exists, new data is appended to the end of the file.\n",
        "\n",
        "4. **'r+' (Read and Write):** This mode opens the file in read and write mode. If the file does not exist, an error is raised.\n",
        "\n",
        "5. **'w+' (Write and Read):** This mode opens the file in write and read mode. If the file does not exist, a new file is created. If the file already exists, all its contents are truncated (deleted).\n",
        "\n",
        "6. **'a+' (Append and Read):** This mode opens the file in append and read mode. If the file does not exist, a new file is created. If the file already exists, new data is appended to the end of the file.\n",
        "\n",
        "It is important to close a file after performing operations on it, this can be done using the close() method on the file object. Additionally, you can use the with statement in python, this automatically handle the closing of the file for you.\n",
        "\n",
        "\n",
        "**\"x\" mode** In file handling, the \"x\" mode is used to open a file for exclusive creation. This means that the file will only be created if it does not already exist. If the file already exists, the operation will fail and an error will be raised. This mode is typically used when the programmer wants to ensure that a new file is created, and that no other process can access the file until it is closed.\n",
        "\n",
        "\n",
        "\n"
      ],
      "metadata": {
        "id": "bWkov1Vk8uqK"
      }
    },
    {
      "cell_type": "markdown",
      "source": [
        "### Q2) ReadLine() and ReadLines() in Python\n",
        "\n",
        "In Python, the readline() function is used to read a single line from a file. It takes no arguments and returns the next line in the file, including the newline character at the end. If the end of the file has been reached, it returns an empty string.\n",
        "\n",
        "The readlines() function, on the other hand, reads all the lines of a file and returns them as a list of strings. Each line, including the newline character, is an element of the list. If the file is empty, it will return an empty list.\n",
        "\n",
        "Example:\n",
        "```\n",
        "file = open(\"example.txt\", \"r\")\n",
        "print(file.readline()) # prints the first line of the file\n",
        "print(file.readlines()) # prints all lines in the file as list\n",
        "\n",
        "```\n",
        "or you can use with open statement, which automatically close the file after the block of code is executed.\n",
        "```\n",
        "with open(\"example.txt\", \"r\") as file:\n",
        "    print(file.readline())\n",
        "    print(file.readlines())\n",
        "```\n",
        "\n",
        "#### Difference between read() and readlines()\n",
        "So the main difference between read() and readlines() is that read() returns the entire file as a single string, while readlines() returns the file as a list of strings, where each string is a line from the file."
      ],
      "metadata": {
        "id": "plY_LmCVKAHp"
      }
    },
    {
      "cell_type": "markdown",
      "source": [
        "### Q3) Cursor In Python\n",
        "\n",
        "In Python, a cursor is an object that enables the execution of SQL commands on a database. When you connect to a database using a library such as sqlite3, psycopg2 or MySQLdb, a cursor object is returned.\n",
        "\n",
        "The cursor object allows you to execute SQL commands such as SELECT, INSERT, UPDATE, and DELETE on the database. It also allows you to retrieve the results of these commands.\n",
        "\n",
        "Here is an example of how to create a cursor and execute a SELECT statement using the sqlite3 library:\n",
        "\n",
        "```\n",
        "import sqlite3\n",
        "\n",
        "connection = sqlite3.connect('example.db')\n",
        "cursor = connection.cursor()\n",
        "cursor.execute('SELECT * FROM employees')\n",
        "rows = cursor.fetchall()\n",
        "for row in rows:\n",
        "    print(row)\n",
        "\n",
        "connection.close()\n",
        "```\n",
        "In this example, we first create a connection to the database using the sqlite3.connect() method. Then, we create a cursor object using the connection.cursor() method.\n",
        "We then use the cursor.execute() method to execute an SQL SELECT statement on the \"employees\" table. The results of the query are then stored in the rows variable using the cursor.fetchall() method. Finally, we use a for loop to print the contents of each row returned by the query.\n",
        "\n",
        "It's important to close the connection when you're done with it, to free up system resources and avoid data corruption.\n",
        "\n",
        "```\n",
        "connection.close()\n",
        "```\n",
        "or you can use with connection statement, which automatically close the connection after the block of code is executed.\n",
        "\n",
        "```\n",
        "with sqlite3.connect('example.db') as connection:\n",
        "    cursor = connection.cursor()\n",
        "    cursor.execute('SELECT * FROM employees')\n",
        "    rows = cursor.fetchall()\n",
        "    for row in rows:\n",
        "        print(row)\n",
        "```\n",
        "It's also worth noting that some libraries like sqlalchemy offers a more powerful and flexible way to interact with databases, it provides a common interface for multiple database systems, and you can use it to write database-agnostic code that could run on any database system."
      ],
      "metadata": {
        "id": "VbuX_pFTN0VX"
      }
    },
    {
      "cell_type": "markdown",
      "source": [
        "### Q4) Reading a CSV file in Python\n",
        "\n",
        "Here is an example of a program that reads a CSV file in Python using the csv module:\n",
        "\n",
        "```\n",
        "import csv\n",
        "\n",
        "with open('example.csv', 'r') as file:\n",
        "    reader = csv.reader(file)\n",
        "    for row in reader:\n",
        "        print(row)\n",
        "```\n",
        "In this example, we use the open() function to open the file in read mode ('r'). The csv.reader() function is then used to read the contents of the file, which is passed as an argument to the reader object. The for loop iterates through each row in the file, and print(row) prints the contents of each row.\n",
        "\n",
        "Alternatively, you can use pandas library to read csv file, it's more convenient and efficient way.\n",
        "\n",
        "```\n",
        "import pandas as pd\n",
        "\n",
        "data = pd.read_csv(\"example.csv\")\n",
        "print(data)\n",
        "```\n",
        "This will return you a pandas DataFrame, where you can manipulate and analyze the data easily."
      ],
      "metadata": {
        "id": "IirG3MU3N5wO"
      }
    },
    {
      "cell_type": "markdown",
      "source": [
        "### Q5) Reading JSON File in Python\n",
        "\n",
        "In Python, the json module can be used to read JSON files. Here is an example of a program that reads a JSON file in Python:\n",
        "\n",
        "```\n",
        "import json\n",
        "\n",
        "with open('example.json', 'r') as file:\n",
        "    data = json.load(file)\n",
        "    print(data)\n",
        "```\n",
        "In this example, we use the open() function to open the file in read mode ('r'). The json.load() function is then used to read the contents of the file, which is passed as an argument to the data variable. The print(data) prints the contents of the json file.\n",
        "\n",
        "Alternatively, you can use pandas library to read json file, it's more convenient and efficient way.\n",
        "\n",
        "```\n",
        "import pandas as pd\n",
        "\n",
        "data = pd.read_json(\"example.json\")\n",
        "print(data)\n",
        "```\n",
        "This will return you a pandas DataFrame, where you can manipulate and analyze the data easily.\n",
        "\n",
        "Please note that json.load() and pd.read_json() will raise an error if the file is not in valid json format. It's a good practice to use try and except block to handle the possible exceptions."
      ],
      "metadata": {
        "id": "V36EsyXZOO5o"
      }
    },
    {
      "cell_type": "markdown",
      "source": [
        "### Q6) Read Flat Files in Python\n",
        "\n",
        "A flat file is a plain text file that contains data in a simple, structured format, such as CSV, TSV, or tab-delimited format. In Python, you can use the open() function to open a flat file and the .read() or .readlines() method to read the file's contents.\n",
        "\n",
        "Here is an example of a program that reads a CSV file in Python:\n",
        "\n",
        "```\n",
        "with open('example.csv', 'r') as file:\n",
        "    data = file.readlines()\n",
        "    for row in data:\n",
        "        print(row)\n",
        "```\n",
        "In this example, we use the open() function to open the file in read mode ('r'). The file.readlines() method reads the contents of the file and stores them as a list of strings, where each string is a line from the file. The for loop iterates through each row in the list, and print(row) prints the contents of each row."
      ],
      "metadata": {
        "id": "0vBfE7k1O7fG"
      }
    }
  ]
}