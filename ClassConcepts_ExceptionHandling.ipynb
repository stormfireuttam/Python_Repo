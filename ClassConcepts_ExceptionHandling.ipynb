{
  "nbformat": 4,
  "nbformat_minor": 0,
  "metadata": {
    "colab": {
      "provenance": [],
      "authorship_tag": "ABX9TyP04PWUrXeDwPZ+bByMBs65",
      "include_colab_link": true
    },
    "kernelspec": {
      "name": "python3",
      "display_name": "Python 3"
    },
    "language_info": {
      "name": "python"
    }
  },
  "cells": [
    {
      "cell_type": "markdown",
      "metadata": {
        "id": "view-in-github",
        "colab_type": "text"
      },
      "source": [
        "<a href=\"https://colab.research.google.com/github/stormfireuttam/Python_Repo/blob/main/ClassConcepts_ExceptionHandling.ipynb\" target=\"_parent\"><img src=\"https://colab.research.google.com/assets/colab-badge.svg\" alt=\"Open In Colab\"/></a>"
      ]
    },
    {
      "cell_type": "code",
      "execution_count": 7,
      "metadata": {
        "id": "XB4zc4dN3KXx"
      },
      "outputs": [],
      "source": [
        "class Person:\n",
        "  def __init__(self,name,age):\n",
        "    self.name = name\n",
        "    self.age = age\n",
        "  def get_first_name(self):          \n",
        "    return self.name.split()[0]\n",
        "  def get_last_name(self):\n",
        "    return self.name.split()[-1]\n",
        "  def get_age_category(self):\n",
        "    if self.age < 18:\n",
        "      return \"Child\"\n",
        "    elif self.age >=18 and self.age < 60:\n",
        "      return \"Adult\"\n",
        "    else:\n",
        "      return \"Senior Citizen\""
      ]
    },
    {
      "cell_type": "code",
      "source": [
        "person1 = Person(\"Tushar Khanna\",16)  #creation of object\n",
        "print(person1.get_first_name())\n",
        "print(person1.get_last_name())\n",
        "print(\"Age Category Person 1 : \", person1.get_age_category())\n",
        "person2 = Person(\"Tushar Khanna\",47) \n",
        "print(\"Age Category Person 2 : \", person2.get_age_category())\n",
        "person3 = Person(\"Tushar Khanna\",87) \n",
        "print(\"Age Category Person 3 : \", person3.get_age_category())"
      ],
      "metadata": {
        "colab": {
          "base_uri": "https://localhost:8080/"
        },
        "id": "zfzyhf136OXb",
        "outputId": "27c6d80e-825b-4f31-dd22-5efba4c95cf2"
      },
      "execution_count": 8,
      "outputs": [
        {
          "output_type": "stream",
          "name": "stdout",
          "text": [
            "Tushar\n",
            "Khanna\n",
            "Age Category Person 1 :  Child\n",
            "Age Category Person 2 :  Adult\n",
            "Age Category Person 3 :  Senior Citizen\n"
          ]
        }
      ]
    },
    {
      "cell_type": "code",
      "source": [
        "while  True:\n",
        "  try:\n",
        "    age = int(input(\"Enter age: \"))\n",
        "    if age < 0:\n",
        "      raise Exception(age)\n",
        "    break\n",
        "  except ValueError as ve:\n",
        "    print(\"Error: The number is not an integer.\")\n",
        "  except Exception as e:\n",
        "    print(\"The value entered\", e ,\"is a negative number.\\nError: Enter integer value greater than zero.\")"
      ],
      "metadata": {
        "colab": {
          "base_uri": "https://localhost:8080/"
        },
        "id": "LQxUePEu9CtH",
        "outputId": "97fef018-5a54-4cfd-d7e7-9d60f58ca6fe"
      },
      "execution_count": 17,
      "outputs": [
        {
          "name": "stdout",
          "output_type": "stream",
          "text": [
            "Enter age: asjlds\n",
            "Error: The number is not an integer.\n",
            "Enter age: -23\n",
            "The value entered -23 is a negative number.\n",
            "Error: Enter integer value greater than zero.\n",
            "Enter age: 31\n"
          ]
        }
      ]
    },
    {
      "cell_type": "code",
      "source": [
        "class Person:\n",
        "  def __init__(self,name,age):\n",
        "    self.name = name\n",
        "    self.age = age\n",
        "  def get_first_name(self):          \n",
        "    return self.name.split()[0]\n",
        "  def get_last_name(self):\n",
        "    return self.name.split()[-1]\n",
        "  def get_age_category(self):\n",
        "    if self.age < 18:\n",
        "      return \"Child\"\n",
        "    elif self.age >=18 and self.age < 60:\n",
        "      return \"Adult\"\n",
        "    else:\n",
        "      return \"Senior Citizen\"\n",
        "\n",
        "i = 1\n",
        "while True:\n",
        "  while  True:\n",
        "    try:\n",
        "      name_ip = input(f\"Enter name of person {i}: \")\n",
        "      age_ip = int(input(f\"Enter age of person {i}: \"))\n",
        "      if age_ip < 0:\n",
        "        raise Exception(age_ip)\n",
        "      break\n",
        "    except ValueError as ve:\n",
        "      print(\"Error: The number is not an integer.\")\n",
        "    except Exception as e:\n",
        "      print(\"The value entered\", e ,\"is a negative number.\\nError: Enter integer value greater than zero.\")\n",
        "  print(\"\\nDo you want to continue. \\n1 for Yes. \\n2 for No.\")\n",
        "  op_ip = int(input())\n",
        "  if op_ip == 2:\n",
        "    break\n",
        "  i += 1"
      ],
      "metadata": {
        "colab": {
          "base_uri": "https://localhost:8080/"
        },
        "id": "ZTU66ZZd-YFC",
        "outputId": "4eafc630-9e9e-40b3-9828-0d1ca5249304"
      },
      "execution_count": 20,
      "outputs": [
        {
          "name": "stdout",
          "output_type": "stream",
          "text": [
            "Enter name of person 1: Utkarsh\n",
            "Enter age of person 1: -32\n",
            "The value entered -32 is a negative number.\n",
            "Error: Enter integer value greater than zero.\n",
            "Enter name of person 1: Utkarsh\n",
            "Enter age of person 1: -32\n",
            "The value entered -32 is a negative number.\n",
            "Error: Enter integer value greater than zero.\n",
            "Enter name of person 1: Utakrsh\n",
            "Enter age of person 1: 23\n",
            "\n",
            "Do you want to continue. \n",
            "1 for Yes. \n",
            "2 for No.\n",
            "2\n"
          ]
        }
      ]
    },
    {
      "cell_type": "code",
      "source": [
        "def checkLeapYear(year):\n",
        "  if ((year % 400 == 0) or (year % 100 != 0) and (year % 4 == 0)):\n",
        "    return True\n",
        "\n",
        "day,month,year = 0,0,0\n",
        "while True:\n",
        "  try:\n",
        "    print(\"Enter age of user\")\n",
        "    day = int(input(\"Enter day: \"))\n",
        "    month = int(input(\"Enter month: \"))\n",
        "    year = int(input(\"Enter year: \"))\n",
        "    day_months = [31,28,31,30,31,30,31,31,30,31,30,31]\n",
        "    if(checkLeapYear(year)):\n",
        "      if(day > 28):\n",
        "        raise Exception()\n",
        "    if(year < 1900):\n",
        "      raise Exception()\n",
        "    break\n",
        "  except:\n",
        "    print(\"Invalid Input. Please try again...\")  \n",
        "\n",
        "print(year, \"-\", month, \"-\", day)"
      ],
      "metadata": {
        "colab": {
          "base_uri": "https://localhost:8080/"
        },
        "id": "EMKdAUawEv4z",
        "outputId": "669d7177-456c-4e6e-9ec6-e284f12eabcf"
      },
      "execution_count": 25,
      "outputs": [
        {
          "output_type": "stream",
          "name": "stdout",
          "text": [
            "Enter age of user\n",
            "Enter day: 29\n",
            "Enter month: 2\n",
            "Enter year: 2005\n",
            "2005 - 2 - 29\n"
          ]
        }
      ]
    },
    {
      "cell_type": "code",
      "source": [
        "try:\n",
        "  print(\"Try block start\")\n",
        "  a = 1/0 #error statement\n",
        "  print(\"Try block end\")\n",
        "except:\n",
        "  print(\"Except block. Error has occured.\")\n",
        "else:\n",
        "  print(\"Else Block.\")\n",
        "finally:\n",
        "  print(\"Finally Block.\")"
      ],
      "metadata": {
        "colab": {
          "base_uri": "https://localhost:8080/"
        },
        "id": "5j-Umt9GPvRH",
        "outputId": "2e7b89b1-c9cc-4087-8dab-0539d22e02de"
      },
      "execution_count": 26,
      "outputs": [
        {
          "output_type": "stream",
          "name": "stdout",
          "text": [
            "Try block start\n",
            "Except block. Error has occured.\n",
            "Finally Block.\n"
          ]
        }
      ]
    },
    {
      "cell_type": "markdown",
      "source": [
        "### Inheritance"
      ],
      "metadata": {
        "id": "YLLBXSesR7L-"
      }
    },
    {
      "cell_type": "code",
      "source": [
        "class Person:\n",
        "  def __init__(self,name,age):\n",
        "    self.name = name\n",
        "    self.age = age\n",
        "  def get_first_name(self):          \n",
        "    return self.name.split()[0]\n",
        "  def get_last_name(self):\n",
        "    return self.name.split()[-1]\n",
        "  \n",
        "class Patient(Person):\n",
        "  def __init__(self,name,age,ssn):\n",
        "    super().__init__(name,age)\n",
        "    self.ssn = ssn\n",
        "  def __str__(self):\n",
        "    s = \"Name of Patient : \" + self.name\n",
        "    s += \"\\nAge of Patient : \" + str(self.age)\n",
        "    s += \"\\nSSN of Patient : \" + str(self.ssn)\n",
        "    return s\n",
        "  def __repr__(self):\n",
        "    s = f\"Patient({self.name}, {self.age}, {self.ssn})\"\n",
        "    return s\n",
        "\n",
        "patient1 = Patient(\"Henry Davidson\", 54, 129025)\n",
        "print(patient1)\n",
        "print(patient1.__repr__())\n"
      ],
      "metadata": {
        "colab": {
          "base_uri": "https://localhost:8080/"
        },
        "id": "RVAwE-k6R6cr",
        "outputId": "3b813cc9-fccd-4cbc-fe78-63e1d3a3e1f0"
      },
      "execution_count": 35,
      "outputs": [
        {
          "output_type": "stream",
          "name": "stdout",
          "text": [
            "Name of Patient : Henry Davidson\n",
            "Age of Patient : 54\n",
            "SSN of Patient : 129025\n",
            "Patient(Henry Davidson, 54, 129025)\n"
          ]
        }
      ]
    },
    {
      "cell_type": "code",
      "source": [
        "class Person: \n",
        "  def __init__(self,fname,lname,age):\n",
        "    self.fname = fname\n",
        "    self.lname = lname\n",
        "    self.age = age\n",
        "  def get_full_name(self):          \n",
        "    return self.fname + self.lname\n",
        "  def __str__(self):\n",
        "    s = f\"Name of Person is {self.get_full_name()} and age is {self.age}.\"\n",
        "    return s\n",
        "\n",
        "class Student(Person):\n",
        "  def __init__(self,fname,lname,age,reg_no,maths,science,english):\n",
        "    super().__init__(fname,lname,age)\n",
        "    self.reg_no = reg_no\n",
        "    self.maths = maths\n",
        "    self.science = science\n",
        "    self.english = english\n",
        "  def get_total_marks(self):\n",
        "    return self.maths + self.science + self.english\n",
        "  def __str__(self):\n",
        "    s = super().__str__()\n",
        "    s += f\"\\nRegistration Number of Student is {self.reg_no}\"\n",
        "    s += f\"\\nMarks in Maths: {self.maths} \\nMarks in Science: {self.science} \\nMarks in English: {self.english}\"\n",
        "    s += f\"\\nTotal Marks: {self.get_total_marks()}\"\n",
        "    return s\n",
        "\n",
        "class Teacher(Person):\n",
        "  def __init__(self,fname,lname,age,subjects):\n",
        "    super().__init__(fname,lname,age)\n",
        "    self.subjects = subjects\n",
        "  def get_subjects(self):\n",
        "    sub = \"\"\n",
        "    for iter in self.subjects:\n",
        "      sub += iter + \"\\n\"\n",
        "    return sub\n",
        "  def __str__(self):\n",
        "    s = super().__str__()\n",
        "    s += \"\\nSubjects Taught are as follows : \\n\" + self.get_subjects()\n",
        "    return s\n",
        "\n",
        "class Hod(Teacher):\n",
        "  def __init__(self,fname,lname,age,subjects,teachers):\n",
        "    super().__init__(fname,lname,age,subjects)\n",
        "    self.teachers = teachers\n",
        "  def get_teachers_managed(self):\n",
        "    tchrs = \"\"\n",
        "    for iter in self.teachers:\n",
        "      tchrs += str(iter) \n",
        "    return tchrs\n",
        "  def __str__(self):\n",
        "    s = super().__str__()\n",
        "    s += \"\\nThe Teachers managed by HOD are : \\n\" + self.get_teachers_managed()\n",
        "    return s\n"
      ],
      "metadata": {
        "id": "sKIZSZM-VRUE"
      },
      "execution_count": 72,
      "outputs": []
    },
    {
      "cell_type": "code",
      "source": [
        "s1 = Student(\"Utkarsh\",\"Singh\",24,159305,86,79,92)\n",
        "s2 = Student(\"Surya\",\"Yadav\",22,159308,80,79,83)\n",
        "s3 = Student(\"Rohit\",\"Singhal\",34,159315,83,91,72)\n",
        "t1 = Teacher(\"Tushar\",\"Khanna\", 45, [\"Python\",\"SQL\",\"Cloud\"])\n",
        "t2 = Teacher(\"Tommy\",\"Hilfiger\", 40, [\"SQL\",\"Cloud\"])\n",
        "t3 = Teacher(\"Raju\",\"Sharma\", 38, [\"EC Circuits\",\"Logic Gates\"])\n",
        "hod1 = Hod(\"Ramesh\", \"Pillai\", 51, [\"Python\",\"SQL\",\"Cloud\"], [t1, t2])\n",
        "\n",
        "print(\"Student Details: \\n\")\n",
        "print(s1)\n",
        "print(\"\\n\", s2)\n",
        "print(\"\\n\", s3)\n",
        "\n",
        "# print(\"\\nTeacher Details: \\n\")\n",
        "# print(t1)\n",
        "# print(t2)\n",
        "# print(t3)\n",
        "\n",
        "print(\"\\nHOD Details: \\n********************************\\n\")\n",
        "print(hod1)"
      ],
      "metadata": {
        "colab": {
          "base_uri": "https://localhost:8080/"
        },
        "id": "akLgAW3JWBBh",
        "outputId": "6a82025e-96b3-45d3-b788-ea9e5d1db96c"
      },
      "execution_count": 74,
      "outputs": [
        {
          "output_type": "stream",
          "name": "stdout",
          "text": [
            "Student Details: \n",
            "\n",
            "Name of Person is UtkarshSingh and age is 24.\n",
            "Registration Number of Student is 159305\n",
            "Marks in Maths: 86 \n",
            "Marks in Science: 79 \n",
            "Marks in English: 92\n",
            "Total Marks: 257\n",
            "\n",
            " Name of Person is SuryaYadav and age is 22.\n",
            "Registration Number of Student is 159308\n",
            "Marks in Maths: 80 \n",
            "Marks in Science: 79 \n",
            "Marks in English: 83\n",
            "Total Marks: 242\n",
            "\n",
            " Name of Person is RohitSinghal and age is 34.\n",
            "Registration Number of Student is 159315\n",
            "Marks in Maths: 83 \n",
            "Marks in Science: 91 \n",
            "Marks in English: 72\n",
            "Total Marks: 246\n",
            "\n",
            "HOD Details: \n",
            "********************************\n",
            "\n",
            "Name of Person is RameshPillai and age is 51.\n",
            "Subjects Taught are as follows : \n",
            "Python\n",
            "SQL\n",
            "Cloud\n",
            "\n",
            "The Teachers managed by HOD are : \n",
            "Name of Person is TusharKhanna and age is 45.\n",
            "Subjects Taught are as follows : \n",
            "Python\n",
            "SQL\n",
            "Cloud\n",
            "Name of Person is TommyHilfiger and age is 40.\n",
            "Subjects Taught are as follows : \n",
            "SQL\n",
            "Cloud\n",
            "\n"
          ]
        }
      ]
    },
    {
      "cell_type": "code",
      "source": [
        "class Person:\n",
        "  def __init__(self,name,age,address):\n",
        "    self.name = name\n",
        "    self.age = age\n",
        "    self.address = address\n",
        "  def __str__(self):\n",
        "    s = f\"Name of Person is {self.name}\\nAge is {self.age}\\nAddress is {self.address}\"\n",
        "    return s\n",
        "\n",
        "class Employee(Person):\n",
        "  def __init__(self,name,age,address,salary):\n",
        "    super().__init__(name,age,address)\n",
        "    self.salary = salary\n",
        "  def __str__(self):\n",
        "    s = super().__str__()\n",
        "    s += f\"\\nSalary of Employee {self.salary}\"\n",
        "    return s\n",
        "\n",
        "class SalesEmployee(Employee):\n",
        "  def __init__(self,name,age,address,salary,bonus):\n",
        "    super().__init__(name,age,address,salary)\n",
        "    self.bonus = bonus\n",
        "  def __str__(self):\n",
        "    s = super().__str__()\n",
        "    s += f\"\\nBonus  Amount: {self.bonus}\"\n",
        "    return s\n",
        "\n",
        "class Manager(Person):\n",
        "  def __init__(self,name,age,address,employees_managed):\n",
        "    super().__init__(name,age,address)\n",
        "    self.employees_managed = employees_managed\n",
        "  def __str__(self):\n",
        "    s = super().__str__()\n",
        "    s += f\"\\nDetails of Employees Managed are as follows:\\n\"\n",
        "    i = 1\n",
        "    for iter in self.employees_managed:\n",
        "      s += f\"\\n\\nEmployee {i}\\n------------\\n\" + str(iter)\n",
        "      i += 1\n",
        "    return s"
      ],
      "metadata": {
        "id": "GOymg2ysaahq"
      },
      "execution_count": 100,
      "outputs": []
    },
    {
      "cell_type": "code",
      "source": [
        "e1 = Employee(\"John Sebastian\", 25, \"Vijay Park, New Delhi\", 36000)\n",
        "e2 = SalesEmployee(\"Kenneth Nicolas\", 26, \"Priya Manor, Bangalore\", 40000, 2000)\n",
        "m1 = Manager(\"Hardik Pandaya\", 30, \"Surya Apartments, Bangalore\", [e1,e2])\n",
        "\n",
        "print(\"Manager Details\\n************************\")\n",
        "print(m1)"
      ],
      "metadata": {
        "colab": {
          "base_uri": "https://localhost:8080/"
        },
        "id": "tMaIhz7JrONM",
        "outputId": "d8956687-8278-4d68-c308-46ec94e7a9d0"
      },
      "execution_count": 101,
      "outputs": [
        {
          "output_type": "stream",
          "name": "stdout",
          "text": [
            "Manager Details\n",
            "************************\n",
            "Name of Person is Hardik Pandaya\n",
            "Age is 30\n",
            "Address is Surya Apartments, Bangalore\n",
            "Details of Employees Managed are as follows:\n",
            "\n",
            "\n",
            "Employee 1\n",
            "------------\n",
            "Name of Person is John Sebastian\n",
            "Age is 25\n",
            "Address is Vijay Park, New Delhi\n",
            "Salary of Employee 36000\n",
            "\n",
            "Employee 2\n",
            "------------\n",
            "Name of Person is Kenneth Nicolas\n",
            "Age is 26\n",
            "Address is Priya Manor, Bangalore\n",
            "Salary of Employee 40000\n",
            "Bonus  Amount: 2000\n"
          ]
        }
      ]
    }
  ]
}