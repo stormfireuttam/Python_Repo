{
  "nbformat": 4,
  "nbformat_minor": 0,
  "metadata": {
    "colab": {
      "provenance": [],
      "authorship_tag": "ABX9TyPBBB8LWKNxnGq4d8v/WVMx",
      "include_colab_link": true
    },
    "kernelspec": {
      "name": "python3",
      "display_name": "Python 3"
    },
    "language_info": {
      "name": "python"
    }
  },
  "cells": [
    {
      "cell_type": "markdown",
      "metadata": {
        "id": "view-in-github",
        "colab_type": "text"
      },
      "source": [
        "<a href=\"https://colab.research.google.com/github/stormfireuttam/Python_Repo/blob/main/Intro_Class.ipynb\" target=\"_parent\"><img src=\"https://colab.research.google.com/assets/colab-badge.svg\" alt=\"Open In Colab\"/></a>"
      ]
    },
    {
      "cell_type": "markdown",
      "source": [
        "# Introduction to Python\n",
        "\n",
        "* Python is a high-level, interpreted programming language that is widely used for web development, scientific computing, data analysis, artificial intelligence, and more.\n",
        "* Python is a case sensitive langauge.\n",
        "* It has a clean, readable syntax that makes it easy to learn and use. \n",
        "* Python also has a large and active community, which has led to the development of many useful libraries and frameworks. \n",
        "* Some popular Python libraries include NumPy, pandas, and scikit-learn for data analysis, and TensorFlow and PyTorch for machine learning. \n",
        "* Python is also often used as a scripting language for automating tasks and for writing small programs."
      ],
      "metadata": {
        "id": "VscfHvn7_tcP"
      }
    },
    {
      "cell_type": "markdown",
      "source": [
        "### What is a Procedural Programming Language?\n",
        "\n",
        "A procedural programming language is a type of programming language that follows a step-by-step approach to problem-solving. It uses procedures, also known as subroutines or functions, to break down a larger problem into smaller, manageable tasks. These procedures are executed in a specific order, with the program flow controlled by statements such as loops and conditional statements. Examples of procedural programming languages include C, Pascal, and Fortran."
      ],
      "metadata": {
        "id": "avSzim6_DNBy"
      }
    },
    {
      "cell_type": "markdown",
      "source": [
        "### Why Python is not Procedural Programming Language?\n",
        "\n",
        "Python is not considered a purely procedural programming language because it also supports object-oriented programming (OOP) and functional programming. In procedural programming, programs are organized as a series of steps or procedures to be followed in order, while in OOP, programs are organized around objects and their interactions. Python allows the use of both paradigms, which is why it is considered a multi-paradigm programming language."
      ],
      "metadata": {
        "id": "o9OgH6xVIzVx"
      }
    },
    {
      "cell_type": "markdown",
      "source": [
        "### **Data types in Python**\n",
        "\n",
        "* Data types are defined as classes in Python\n",
        "\n",
        "In Python, a mutable data type is a type of data that can be modified after it is created. Examples of mutable data types in Python include:\n",
        "* Lists: Lists are used to store a collection of items, and the items in a list can be modified, added, or removed.\n",
        "* Dictionaries: Dictionaries are similar to lists, but instead of using integer indices, they use keys to access the elements. The keys and values in a dictionary can be modified.\n",
        "* Sets: Sets are similar to lists, but only store unique items. Sets can be modified by adding or removing elements.\n",
        "* Byte Arrays: A byte array is a mutable sequence of integers in the range 0 <= x < 256.\n",
        "\n",
        "On the other hand, immutable data types in python are:\n",
        "* Strings: Strings are sequences of characters and cannot be modified once they are created.\n",
        "* Tuples: Tuples are similar to lists, but they are immutable and cannot be modified.\n",
        "* Integers, Floats, and other numerical types.\n",
        "* Boolean\n",
        "* In Python, a frozen set is a built-in immutable set data type. Like a normal set, it is used to store a collection of unique items, but unlike sets, the items in a frozen set cannot be modified after it is created. You can create a frozen set by using the built-in \"frozenset()\" function.\n",
        "* In Python, the complex data type is immutable. This means that once a complex number is created, it cannot be modified. If you try to change any part of a complex number, such as the real or imaginary part, a new complex number will be created with the new values.\n"
      ],
      "metadata": {
        "id": "jego31yYAvzq"
      }
    },
    {
      "cell_type": "code",
      "source": [
        "print(\"hello\")"
      ],
      "metadata": {
        "colab": {
          "base_uri": "https://localhost:8080/"
        },
        "id": "Ae0QFXHTI3tE",
        "outputId": "48f93319-cb72-42da-c804-7ab6297c87e4"
      },
      "execution_count": null,
      "outputs": [
        {
          "output_type": "stream",
          "name": "stdout",
          "text": [
            "hello\n"
          ]
        }
      ]
    },
    {
      "cell_type": "code",
      "source": [
        "age=100\n",
        "print(type(age))"
      ],
      "metadata": {
        "colab": {
          "base_uri": "https://localhost:8080/"
        },
        "id": "tWzHrwZ-JRF2",
        "outputId": "2d56ffdd-45c6-4eda-9012-fa54b7b2e3cf"
      },
      "execution_count": null,
      "outputs": [
        {
          "output_type": "stream",
          "name": "stdout",
          "text": [
            "<class 'int'>\n"
          ]
        }
      ]
    },
    {
      "cell_type": "markdown",
      "source": [
        "Call by Refrence - we pass the address of memory location \n",
        "\n",
        "Call by Value - we pass on the copy of the value"
      ],
      "metadata": {
        "id": "_-2iWUl0J5yE"
      }
    },
    {
      "cell_type": "code",
      "source": [
        "age=100\n",
        "print(id(age))   # prints memory location of the variable"
      ],
      "metadata": {
        "colab": {
          "base_uri": "https://localhost:8080/"
        },
        "id": "IxjzPlRMKJmG",
        "outputId": "a88690ce-b931-44f3-b47c-f4f47f5f850d"
      },
      "execution_count": null,
      "outputs": [
        {
          "output_type": "stream",
          "name": "stdout",
          "text": [
            "11534080\n"
          ]
        }
      ]
    },
    {
      "cell_type": "code",
      "source": [
        "age=70\n",
        "print(id(age)) # memory location changed so proves int is not mutable and is thus immutable"
      ],
      "metadata": {
        "colab": {
          "base_uri": "https://localhost:8080/"
        },
        "id": "iB3fOqS2KV2C",
        "outputId": "ef26077d-c8b0-412a-f4c6-dff013ba6b29"
      },
      "execution_count": null,
      "outputs": [
        {
          "output_type": "stream",
          "name": "stdout",
          "text": [
            "11533120\n"
          ]
        }
      ]
    },
    {
      "cell_type": "markdown",
      "source": [
        "Does not creates a new copy everytime refers to the same location for memory optimization in Python. Immutable datatypes refrence will be passed."
      ],
      "metadata": {
        "id": "aWcAjuNmKs-y"
      }
    },
    {
      "cell_type": "code",
      "source": [
        "nidhi = 70\n",
        "id(nidhi) "
      ],
      "metadata": {
        "colab": {
          "base_uri": "https://localhost:8080/"
        },
        "id": "bK3xoRjCK2cE",
        "outputId": "6331a709-89f0-410a-f092-2e48d8d91d62"
      },
      "execution_count": null,
      "outputs": [
        {
          "output_type": "execute_result",
          "data": {
            "text/plain": [
              "11533120"
            ]
          },
          "metadata": {},
          "execution_count": 6
        }
      ]
    },
    {
      "cell_type": "code",
      "source": [
        "del age    # del keyword removes reference of the age"
      ],
      "metadata": {
        "id": "17DTjv3lLWEz"
      },
      "execution_count": null,
      "outputs": []
    },
    {
      "cell_type": "code",
      "source": [
        "print(age)"
      ],
      "metadata": {
        "colab": {
          "base_uri": "https://localhost:8080/",
          "height": 165
        },
        "id": "ig1jxUJULa0a",
        "outputId": "1b1b5e55-50d5-46a7-d794-785903bc882c"
      },
      "execution_count": null,
      "outputs": [
        {
          "output_type": "error",
          "ename": "NameError",
          "evalue": "ignored",
          "traceback": [
            "\u001b[0;31m---------------------------------------------------------------------------\u001b[0m",
            "\u001b[0;31mNameError\u001b[0m                                 Traceback (most recent call last)",
            "\u001b[0;32m<ipython-input-9-5f7a7c5b2c60>\u001b[0m in \u001b[0;36m<module>\u001b[0;34m\u001b[0m\n\u001b[0;32m----> 1\u001b[0;31m \u001b[0mprint\u001b[0m\u001b[0;34m(\u001b[0m\u001b[0mage\u001b[0m\u001b[0;34m)\u001b[0m\u001b[0;34m\u001b[0m\u001b[0;34m\u001b[0m\u001b[0m\n\u001b[0m",
            "\u001b[0;31mNameError\u001b[0m: name 'age' is not defined"
          ]
        }
      ]
    },
    {
      "cell_type": "code",
      "source": [
        "# char, string  => In python only string data type is there\n",
        "name=\"Tushar\"\n",
        "gender='M'\n",
        "company='Futurense'\n",
        "\n",
        "address=\"\"\" \n",
        "this is add\n",
        "in multiple lines\n",
        "\"\"\"\n",
        "\n",
        "# for single line comment\n",
        "'''\n",
        "  is not a comment but will behave like one\n",
        "'''\n"
      ],
      "metadata": {
        "id": "kKV5JNIzLllf"
      },
      "execution_count": null,
      "outputs": []
    },
    {
      "cell_type": "markdown",
      "source": [
        "### STRING FORMATTING"
      ],
      "metadata": {
        "id": "eHGRhMQALT1D"
      }
    },
    {
      "cell_type": "code",
      "source": [
        "# String interpolation or formatting\n",
        "age=60\n",
        "print(\"my age is\",age)\n",
        "\n",
        "print(f\"my age is {age}\")\n",
        "\n",
        "year=2023\n",
        "company=\"miles\"\n",
        "print(f\"my company is {company} in {year}\")"
      ],
      "metadata": {
        "colab": {
          "base_uri": "https://localhost:8080/"
        },
        "id": "rcZ1yFzKMZUR",
        "outputId": "afe257e6-845d-4b60-e3a7-95c6aacdd6ef"
      },
      "execution_count": null,
      "outputs": [
        {
          "output_type": "stream",
          "name": "stdout",
          "text": [
            "my age is 60\n",
            "my age is 60\n",
            "my company is miles in 2023\n"
          ]
        }
      ]
    },
    {
      "cell_type": "code",
      "source": [
        "username=\"surya\"\n",
        "message=f\"hey user {surya}\"\n",
        "print(message)"
      ],
      "metadata": {
        "colab": {
          "base_uri": "https://localhost:8080/",
          "height": 200
        },
        "id": "FiRsP11KNMA5",
        "outputId": "46085cb7-23b9-4a3c-9168-6bda0ebdeed1"
      },
      "execution_count": null,
      "outputs": [
        {
          "output_type": "error",
          "ename": "NameError",
          "evalue": "ignored",
          "traceback": [
            "\u001b[0;31m---------------------------------------------------------------------------\u001b[0m",
            "\u001b[0;31mNameError\u001b[0m                                 Traceback (most recent call last)",
            "\u001b[0;32m<ipython-input-15-053a52de2c47>\u001b[0m in \u001b[0;36m<module>\u001b[0;34m\u001b[0m\n\u001b[1;32m      1\u001b[0m \u001b[0musername\u001b[0m\u001b[0;34m=\u001b[0m\u001b[0;34m\"surya\"\u001b[0m\u001b[0;34m\u001b[0m\u001b[0;34m\u001b[0m\u001b[0m\n\u001b[0;32m----> 2\u001b[0;31m \u001b[0mmessage\u001b[0m\u001b[0;34m=\u001b[0m\u001b[0;34mf\"hey user {surya}\"\u001b[0m\u001b[0;34m\u001b[0m\u001b[0;34m\u001b[0m\u001b[0m\n\u001b[0m\u001b[1;32m      3\u001b[0m \u001b[0mprint\u001b[0m\u001b[0;34m(\u001b[0m\u001b[0mmessage\u001b[0m\u001b[0;34m)\u001b[0m\u001b[0;34m\u001b[0m\u001b[0;34m\u001b[0m\u001b[0m\n",
            "\u001b[0;31mNameError\u001b[0m: name 'surya' is not defined"
          ]
        }
      ]
    },
    {
      "cell_type": "code",
      "source": [
        "username=\"surya\"\n",
        "message=f\"hey user {username}\"\n",
        "print(message)"
      ],
      "metadata": {
        "colab": {
          "base_uri": "https://localhost:8080/"
        },
        "id": "ss40MCC7NdEK",
        "outputId": "4c172f37-21e0-41a3-9ad6-5abc21bd8d22"
      },
      "execution_count": null,
      "outputs": [
        {
          "output_type": "stream",
          "name": "stdout",
          "text": [
            "hey user surya\n"
          ]
        }
      ]
    },
    {
      "cell_type": "code",
      "source": [
        "username=\"aman\"\n",
        "print(message)"
      ],
      "metadata": {
        "colab": {
          "base_uri": "https://localhost:8080/"
        },
        "id": "QxBmoy8BNs73",
        "outputId": "f2354f03-11a5-4cbd-b156-afbec0e0fba0"
      },
      "execution_count": null,
      "outputs": [
        {
          "output_type": "stream",
          "name": "stdout",
          "text": [
            "hey user surya\n"
          ]
        }
      ]
    },
    {
      "cell_type": "code",
      "source": [
        "# dot format method of formatting\n",
        "print(\"my age is {}\".format(70))\n",
        "print(\"my name is {} from {}\".format(\"tushar\",\"Rajasthan\"))\n",
        "print(\"my name is {0} from {1}\".format(\"tushar\",\"Rajasthan\"))\n",
        "print(\"my name is {1} from {0}\".format(\"tushar\",\"Rajasthan\"))\n"
      ],
      "metadata": {
        "colab": {
          "base_uri": "https://localhost:8080/"
        },
        "id": "SmSMJn48ODKh",
        "outputId": "4f693781-2a9a-4667-8842-fd34a5ea69b9"
      },
      "execution_count": null,
      "outputs": [
        {
          "output_type": "stream",
          "name": "stdout",
          "text": [
            "my age is 70\n",
            "my name is tushar from Rajasthan\n",
            "my name is tushar from Rajasthan\n",
            "my name is Rajasthan from tushar\n"
          ]
        }
      ]
    },
    {
      "cell_type": "markdown",
      "source": [
        "### OPERATORS IN PYTHON"
      ],
      "metadata": {
        "id": "kgP0i1ORLZF4"
      }
    },
    {
      "cell_type": "code",
      "source": [
        "# operators\n",
        "# arithmetic, relational, assignment, logical\n",
        "\n",
        "print(10 / 5)   # float division\n",
        "print(10 // 5)  # int division\n",
        "print(10 % 4)   # int remainder\n",
        "print(2**3**2)  # from right side\n",
        "10*2+6-2%3"
      ],
      "metadata": {
        "colab": {
          "base_uri": "https://localhost:8080/"
        },
        "id": "htN1g53LO4r5",
        "outputId": "3828d71d-a07f-4034-feb2-3933991c6445"
      },
      "execution_count": null,
      "outputs": [
        {
          "output_type": "stream",
          "name": "stdout",
          "text": [
            "2.0\n",
            "2\n",
            "2\n",
            "512\n"
          ]
        },
        {
          "output_type": "execute_result",
          "data": {
            "text/plain": [
              "24"
            ]
          },
          "metadata": {},
          "execution_count": 28
        }
      ]
    },
    {
      "cell_type": "code",
      "source": [
        "''' Order of Priority\n",
        "    **\n",
        "    *  /  //  %        (same priority)  left to right association\n",
        "    +  -\n",
        "'''"
      ],
      "metadata": {
        "id": "VOKXQMMzQCdO"
      },
      "execution_count": null,
      "outputs": []
    },
    {
      "cell_type": "code",
      "source": [
        "# bitwise\n",
        "\n",
        "#and, or, xor, right, left shift\n",
        "print(10&9)\n",
        "print(10|9)\n",
        "print(11 >> 1)      # right shift => number / 2 ** bit\n",
        "print(11 << 1)      # left shift  => number * (2 ** bit)"
      ],
      "metadata": {
        "colab": {
          "base_uri": "https://localhost:8080/"
        },
        "id": "-Fjh5LHARDE_",
        "outputId": "cfb80ec1-0499-4b2a-9c19-66b4fa4cb6ed"
      },
      "execution_count": null,
      "outputs": [
        {
          "output_type": "stream",
          "name": "stdout",
          "text": [
            "8\n",
            "11\n",
            "5\n",
            "22\n"
          ]
        }
      ]
    },
    {
      "cell_type": "code",
      "source": [
        "# Membership Operator (in)\n",
        "\n",
        "print(\"s\" in \"Tushar\")\n",
        "print(10 in [10,20,30])\n",
        "print(10 not in [10,20,30])"
      ],
      "metadata": {
        "colab": {
          "base_uri": "https://localhost:8080/"
        },
        "id": "3wjoIIeLTbL5",
        "outputId": "ac0ef342-dd9a-4f1a-c78f-9dee6192d92c"
      },
      "execution_count": null,
      "outputs": [
        {
          "output_type": "stream",
          "name": "stdout",
          "text": [
            "True\n",
            "True\n",
            "False\n"
          ]
        }
      ]
    },
    {
      "cell_type": "code",
      "source": [
        "# Identity => datatype or object belong to class\n",
        "\n",
        "salary = 100\n",
        "print(type(salary) is int)\n",
        "print(type(salary) is str)\n",
        "print(type(salary) is not str)"
      ],
      "metadata": {
        "colab": {
          "base_uri": "https://localhost:8080/"
        },
        "id": "XqB-hZk0T2S_",
        "outputId": "208971d3-8dd1-429e-f52e-8aa01eeb7628"
      },
      "execution_count": null,
      "outputs": [
        {
          "output_type": "stream",
          "name": "stdout",
          "text": [
            "True\n",
            "False\n",
            "True\n"
          ]
        }
      ]
    },
    {
      "cell_type": "code",
      "source": [
        "# take two numbers from user check if numbers belong to integers, if int do arithemtic otherwise values are not integer and take input again\n",
        "while True:\n",
        "  a = input()\n",
        "  b = input()\n",
        "  if  type(a) is int and type(b) is int:\n",
        "      print(a+b)\n",
        "      print(a*b)\n",
        "      break\n",
        "  "
      ],
      "metadata": {
        "colab": {
          "base_uri": "https://localhost:8080/",
          "height": 415
        },
        "id": "kKd56lKOUSk_",
        "outputId": "0308aac6-b732-4a2f-cfe5-23399671323b"
      },
      "execution_count": null,
      "outputs": [
        {
          "name": "stdout",
          "output_type": "stream",
          "text": [
            "1\n",
            "2\n"
          ]
        },
        {
          "output_type": "error",
          "ename": "KeyboardInterrupt",
          "evalue": "ignored",
          "traceback": [
            "\u001b[0;31m---------------------------------------------------------------------------\u001b[0m",
            "\u001b[0;31mKeyboardInterrupt\u001b[0m                         Traceback (most recent call last)",
            "\u001b[0;32m<ipython-input-42-0cfc4c8049f0>\u001b[0m in \u001b[0;36m<module>\u001b[0;34m\u001b[0m\n\u001b[1;32m      1\u001b[0m \u001b[0;31m# take two numbers from user check if numbers belong to integers, if int do arithemtic otherwise values are not integer and take input again\u001b[0m\u001b[0;34m\u001b[0m\u001b[0;34m\u001b[0m\u001b[0;34m\u001b[0m\u001b[0m\n\u001b[1;32m      2\u001b[0m \u001b[0;32mwhile\u001b[0m \u001b[0;32mTrue\u001b[0m\u001b[0;34m:\u001b[0m\u001b[0;34m\u001b[0m\u001b[0;34m\u001b[0m\u001b[0m\n\u001b[0;32m----> 3\u001b[0;31m   \u001b[0ma\u001b[0m \u001b[0;34m=\u001b[0m \u001b[0minput\u001b[0m\u001b[0;34m(\u001b[0m\u001b[0;34m)\u001b[0m\u001b[0;34m\u001b[0m\u001b[0;34m\u001b[0m\u001b[0m\n\u001b[0m\u001b[1;32m      4\u001b[0m   \u001b[0mb\u001b[0m \u001b[0;34m=\u001b[0m \u001b[0minput\u001b[0m\u001b[0;34m(\u001b[0m\u001b[0;34m)\u001b[0m\u001b[0;34m\u001b[0m\u001b[0;34m\u001b[0m\u001b[0m\n\u001b[1;32m      5\u001b[0m   \u001b[0;32mif\u001b[0m  \u001b[0mtype\u001b[0m\u001b[0;34m(\u001b[0m\u001b[0ma\u001b[0m\u001b[0;34m)\u001b[0m \u001b[0;32mis\u001b[0m \u001b[0mint\u001b[0m \u001b[0;32mand\u001b[0m \u001b[0mtype\u001b[0m\u001b[0;34m(\u001b[0m\u001b[0mb\u001b[0m\u001b[0;34m)\u001b[0m \u001b[0;32mis\u001b[0m \u001b[0mint\u001b[0m\u001b[0;34m:\u001b[0m\u001b[0;34m\u001b[0m\u001b[0;34m\u001b[0m\u001b[0m\n",
            "\u001b[0;32m/usr/local/lib/python3.8/dist-packages/ipykernel/kernelbase.py\u001b[0m in \u001b[0;36mraw_input\u001b[0;34m(self, prompt)\u001b[0m\n\u001b[1;32m    858\u001b[0m                 \u001b[0;34m\"raw_input was called, but this frontend does not support input requests.\"\u001b[0m\u001b[0;34m\u001b[0m\u001b[0;34m\u001b[0m\u001b[0m\n\u001b[1;32m    859\u001b[0m             )\n\u001b[0;32m--> 860\u001b[0;31m         return self._input_request(str(prompt),\n\u001b[0m\u001b[1;32m    861\u001b[0m             \u001b[0mself\u001b[0m\u001b[0;34m.\u001b[0m\u001b[0m_parent_ident\u001b[0m\u001b[0;34m,\u001b[0m\u001b[0;34m\u001b[0m\u001b[0;34m\u001b[0m\u001b[0m\n\u001b[1;32m    862\u001b[0m             \u001b[0mself\u001b[0m\u001b[0;34m.\u001b[0m\u001b[0m_parent_header\u001b[0m\u001b[0;34m,\u001b[0m\u001b[0;34m\u001b[0m\u001b[0;34m\u001b[0m\u001b[0m\n",
            "\u001b[0;32m/usr/local/lib/python3.8/dist-packages/ipykernel/kernelbase.py\u001b[0m in \u001b[0;36m_input_request\u001b[0;34m(self, prompt, ident, parent, password)\u001b[0m\n\u001b[1;32m    902\u001b[0m             \u001b[0;32mexcept\u001b[0m \u001b[0mKeyboardInterrupt\u001b[0m\u001b[0;34m:\u001b[0m\u001b[0;34m\u001b[0m\u001b[0;34m\u001b[0m\u001b[0m\n\u001b[1;32m    903\u001b[0m                 \u001b[0;31m# re-raise KeyboardInterrupt, to truncate traceback\u001b[0m\u001b[0;34m\u001b[0m\u001b[0;34m\u001b[0m\u001b[0;34m\u001b[0m\u001b[0m\n\u001b[0;32m--> 904\u001b[0;31m                 \u001b[0;32mraise\u001b[0m \u001b[0mKeyboardInterrupt\u001b[0m\u001b[0;34m(\u001b[0m\u001b[0;34m\"Interrupted by user\"\u001b[0m\u001b[0;34m)\u001b[0m \u001b[0;32mfrom\u001b[0m \u001b[0;32mNone\u001b[0m\u001b[0;34m\u001b[0m\u001b[0;34m\u001b[0m\u001b[0m\n\u001b[0m\u001b[1;32m    905\u001b[0m             \u001b[0;32mexcept\u001b[0m \u001b[0mException\u001b[0m \u001b[0;32mas\u001b[0m \u001b[0me\u001b[0m\u001b[0;34m:\u001b[0m\u001b[0;34m\u001b[0m\u001b[0;34m\u001b[0m\u001b[0m\n\u001b[1;32m    906\u001b[0m                 \u001b[0mself\u001b[0m\u001b[0;34m.\u001b[0m\u001b[0mlog\u001b[0m\u001b[0;34m.\u001b[0m\u001b[0mwarning\u001b[0m\u001b[0;34m(\u001b[0m\u001b[0;34m\"Invalid Message:\"\u001b[0m\u001b[0;34m,\u001b[0m \u001b[0mexc_info\u001b[0m\u001b[0;34m=\u001b[0m\u001b[0;32mTrue\u001b[0m\u001b[0;34m)\u001b[0m\u001b[0;34m\u001b[0m\u001b[0;34m\u001b[0m\u001b[0m\n",
            "\u001b[0;31mKeyboardInterrupt\u001b[0m: Interrupted by user"
          ]
        }
      ]
    },
    {
      "cell_type": "markdown",
      "source": [
        "## Q1) If the values are integer them just do all the arithmetic operation if other then return a statement, \"value don't belong to numerical data\""
      ],
      "metadata": {
        "id": "9FzNSdWnnki5"
      }
    },
    {
      "cell_type": "code",
      "source": [
        "while  True:\n",
        "  a = input()\n",
        "  b = input()\n",
        "  if ():\n",
        "    continue\n",
        "  else:\n",
        "      a = int(a)\n",
        "      b = int(b)\n",
        "      print(a+b)\n",
        "      print(a*b)\n",
        "      break"
      ],
      "metadata": {
        "colab": {
          "base_uri": "https://localhost:8080/"
        },
        "id": "1xhb4MoiVP0w",
        "outputId": "618117ad-d555-40c9-d3f4-7e55843c16d2"
      },
      "execution_count": null,
      "outputs": [
        {
          "output_type": "stream",
          "name": "stdout",
          "text": [
            "1\n",
            "2\n",
            "3\n",
            "2\n"
          ]
        }
      ]
    },
    {
      "cell_type": "code",
      "source": [
        "while  True:\n",
        "  try:\n",
        "    a = int(input())\n",
        "    b = int(input())\n",
        "    print(a+b)\n",
        "    print(a*b)\n",
        "    break\n",
        "  except ValueError as ve:\n",
        "    print(\"Enter both values as integer\")"
      ],
      "metadata": {
        "colab": {
          "base_uri": "https://localhost:8080/"
        },
        "id": "0OUQ2Y4lWoQS",
        "outputId": "661415ef-e230-4159-ef95-bfab6d71665b"
      },
      "execution_count": null,
      "outputs": [
        {
          "output_type": "stream",
          "name": "stdout",
          "text": [
            "as\n",
            "Enter both values as integer\n",
            "1\n",
            "2s\n",
            "Enter both values as integer\n",
            "3\n",
            "5\n",
            "8\n",
            "15\n"
          ]
        }
      ]
    },
    {
      "cell_type": "markdown",
      "source": [
        "### Slicing Operation"
      ],
      "metadata": {
        "id": "pJRGoD48LtXa"
      }
    },
    {
      "cell_type": "code",
      "source": [
        "'''\n",
        "   -9-8-7-6-5-4-3-2-1\n",
        "    B A N G A L O R E\n",
        "    0 1 2 3 4 5 6 7 8\n",
        "\n",
        "    variable[start:stop(-1):[stepsize]]\n",
        "'''\n",
        "city = \"Banglore\"\n",
        "print(city[2])\n",
        "print(city[-2])\n",
        "print(city[0:3])\n",
        "print(city[3:])\n",
        "print(city[:5])\n",
        "print(city[:])\n",
        "print(city[0:3:1])\n",
        "print(city[0:5:2])\n",
        "print(city[2:7:3])\n",
        "print(city[0:4:-1]) # empty string\n",
        "print(city[-4:-2])\n",
        "print(city[-1:-6])  # empty string\n",
        "print(city[-3:-1:1])\n",
        "city[-3::1]"
      ],
      "metadata": {
        "colab": {
          "base_uri": "https://localhost:8080/",
          "height": 261
        },
        "id": "2xzB0HRqdx7K",
        "outputId": "3bf39d99-fac5-4fff-c9e1-c535af476ea4"
      },
      "execution_count": null,
      "outputs": [
        {
          "output_type": "stream",
          "name": "stdout",
          "text": [
            "n\n",
            "r\n",
            "Ban\n",
            "glore\n",
            "Bangl\n",
            "Banglore\n",
            "Ban\n",
            "Bnl\n",
            "no\n",
            "\n",
            "lo\n",
            "\n",
            "or\n"
          ]
        },
        {
          "output_type": "execute_result",
          "data": {
            "text/plain": [
              "'ore'"
            ],
            "application/vnd.google.colaboratory.intrinsic+json": {
              "type": "string"
            }
          },
          "metadata": {},
          "execution_count": 76
        }
      ]
    },
    {
      "cell_type": "markdown",
      "source": [
        "### CONDITIONAL LOOPS"
      ],
      "metadata": {
        "id": "3pJQrcVoNs6G"
      }
    },
    {
      "cell_type": "code",
      "source": [
        "'''  \n",
        "FOR:\n",
        "number of iterations known then for loop\n",
        "for var in datatype:\n",
        "We have next function() for sequential data types\n",
        "'''\n",
        "\n",
        "for var in \"goa\":\n",
        "  print(var)\n",
        "for count in range(1,10):\n",
        "  print(count, end= \" \")\n",
        "\n",
        "'''\n",
        "WHILE:\n",
        "number of iterations not known then while loop\n",
        "'''\n",
        "count = 0\n",
        "print()\n",
        "while(count < 10):\n",
        "  print(count, end=\" \")\n",
        "  count+=1\n",
        "\n",
        "print()\n",
        "name = \"goa\"\n",
        "index = 0\n",
        "print(len(name))\n",
        "while(index < len(name)):\n",
        "  print(name[index], end=\" \")\n",
        "  index+=1"
      ],
      "metadata": {
        "colab": {
          "base_uri": "https://localhost:8080/"
        },
        "id": "576rGwIBhTwg",
        "outputId": "8db62453-23fa-4f83-c763-a38c1952cf2e"
      },
      "execution_count": null,
      "outputs": [
        {
          "output_type": "stream",
          "name": "stdout",
          "text": [
            "g\n",
            "o\n",
            "a\n",
            "1 2 3 4 5 6 7 8 9 \n",
            "0 1 2 3 4 5 6 7 8 9 \n",
            "3\n",
            "g o a "
          ]
        }
      ]
    },
    {
      "cell_type": "markdown",
      "source": [
        "### Q2) Learn about different life scope of variable in Python\n",
        "\n",
        "In Python, the scope of a variable is determined by the block of code in which it is defined. There are two types of scopes in Python: global and local.\n",
        "\n",
        "A global variable is defined outside of any function or block of code and is accessible from anywhere in the program.\n",
        "\n",
        "A local variable, on the other hand, is defined inside a function or block of code and is only accessible within that function or block of code.\n",
        "\n",
        "When a variable is defined inside a function, it is only accessible within that function and any nested functions or blocks of code. Once the function or block of code completes execution, the variable is no longer accessible. This is called the variable's lifetime, which is only within that function or block of code.\n",
        "\n",
        "In python the variables used in loop have their scope outside of the conditional loops as well."
      ],
      "metadata": {
        "id": "FYB2je9TkRpA"
      }
    },
    {
      "cell_type": "markdown",
      "source": [
        "## Q3) take a input as a password from user and validate following: \n",
        "* atleast one capital letter\n",
        "* atleast one small letter\n",
        "* number from 0 to 6\n",
        "* should contain a special character @,#,$\n",
        "* if any condition not fulfilled ask for the input from the user upto 3 times\n",
        "* after 3rd try print message \"Try limit exceed\""
      ],
      "metadata": {
        "id": "lfyd3Vtkn5zq"
      }
    },
    {
      "cell_type": "code",
      "source": [
        "flag = 0\n",
        "for i in range(0,3):\n",
        "  pwd = input()\n",
        "  count_cap = 0\n",
        "  count_small = 0\n",
        "  count_digit = 0\n",
        "  count_spec = 0\n",
        "  for ch in pwd:\n",
        "    if ch in ['@','#','$']:\n",
        "      count_spec += 1\n",
        "    elif ord(ch) >= 65 and ord(ch) <= 90:\n",
        "      count_cap += 1\n",
        "    elif ord(ch) >= 97 and ord(ch) <= 122:\n",
        "      count_small += 1\n",
        "    elif ord(ch) >= 48 and ord(ch) <= 54:\n",
        "      count_digit += 1\n",
        "  if count_spec >= 1 and count_cap >= 1 and count_small >= 1 and count_spec >= 1:\n",
        "    print(\"Password accepted\")\n",
        "    flag = 1\n",
        "    break\n",
        "if(flag == 0):\n",
        "  print(\"Try limit exceeded\")\n"
      ],
      "metadata": {
        "colab": {
          "base_uri": "https://localhost:8080/"
        },
        "id": "dkkF98btjzG8",
        "outputId": "8c09f07f-cecf-412b-dc7a-0320393deafa"
      },
      "execution_count": null,
      "outputs": [
        {
          "output_type": "stream",
          "name": "stdout",
          "text": [
            "AS\n",
            "SD\n",
            "SD\n",
            "Try limit exceeded\n"
          ]
        }
      ]
    },
    {
      "cell_type": "markdown",
      "source": [
        "## Q4) Difference between ASCII and UTF-8\n",
        "\n",
        "\n",
        "\n"
      ],
      "metadata": {
        "id": "ReW7lOk4nLZt"
      }
    },
    {
      "cell_type": "markdown",
      "source": [
        "ASCII and UTF-8 are character encoding standards. ASCII uses 7 bits to represent a character, while UTF-8 uses a variable number of bits (from 1 to 4 bytes) to represent a character. This means that UTF-8 can represent a much larger set of characters, including non-English characters, while ASCII is limited to 128 characters. Additionally, ASCII is a single-byte encoding, while UTF-8 is a multi-byte encoding, which means that it can represent a larger set of characters in a more space-efficient way."
      ],
      "metadata": {
        "id": "gFjh_1Xrk9GN"
      }
    }
  ]
}